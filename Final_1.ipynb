{
 "cells": [
  {
   "cell_type": "markdown",
   "metadata": {
    "button": false,
    "deletable": true,
    "new_sheet": false,
    "run_control": {
     "read_only": false
    }
   },
   "source": [
    "### Import necessary Libraries"
   ]
  },
  {
   "cell_type": "code",
   "execution_count": 1,
   "metadata": {
    "button": false,
    "collapsed": false,
    "deletable": true,
    "new_sheet": false,
    "run_control": {
     "read_only": false
    }
   },
   "outputs": [
    {
     "name": "stdout",
     "output_type": "stream",
     "text": [
      "Collecting package metadata: done\n",
      "Solving environment: done\n",
      "\n",
      "## Package Plan ##\n",
      "\n",
      "  environment location: /home/jupyterlab/conda\n",
      "\n",
      "  added / updated specs:\n",
      "    - geopy\n",
      "\n",
      "\n",
      "The following packages will be downloaded:\n",
      "\n",
      "    package                    |            build\n",
      "    ---------------------------|-----------------\n",
      "    ca-certificates-2019.3.9   |       hecc5488_0         146 KB  conda-forge\n",
      "    certifi-2019.3.9           |           py36_0         149 KB  conda-forge\n",
      "    conda-4.6.12               |           py36_2         2.1 MB  conda-forge\n",
      "    geographiclib-1.49         |             py_0          32 KB  conda-forge\n",
      "    geopy-1.19.0               |             py_0          53 KB  conda-forge\n",
      "    openssl-1.1.1b             |       h14c3975_1         4.0 MB  conda-forge\n",
      "    ------------------------------------------------------------\n",
      "                                           Total:         6.4 MB\n",
      "\n",
      "The following NEW packages will be INSTALLED:\n",
      "\n",
      "  geographiclib      conda-forge/noarch::geographiclib-1.49-py_0\n",
      "\n",
      "The following packages will be UPDATED:\n",
      "\n",
      "  ca-certificates                     2018.11.29-ha4d7672_0 --> 2019.3.9-hecc5488_0\n",
      "  certifi                              2018.11.29-py36_1000 --> 2019.3.9-py36_0\n",
      "  conda                                        4.6.4-py36_0 --> 4.6.12-py36_2\n",
      "  geopy              conda-forge/linux-64::geopy-1.11.0-py~ --> conda-forge/noarch::geopy-1.19.0-py_0\n",
      "  openssl                              1.1.1a-h14c3975_1000 --> 1.1.1b-h14c3975_1\n",
      "\n",
      "\n",
      "\n",
      "Downloading and Extracting Packages\n",
      "ca-certificates-2019 | 146 KB    | ##################################### | 100% \n",
      "openssl-1.1.1b       | 4.0 MB    | ##################################### | 100% \n",
      "geopy-1.19.0         | 53 KB     | ##################################### | 100% \n",
      "conda-4.6.12         | 2.1 MB    | ##################################### | 100% \n",
      "certifi-2019.3.9     | 149 KB    | ##################################### | 100% \n",
      "geographiclib-1.49   | 32 KB     | ##################################### | 100% \n",
      "Preparing transaction: done\n",
      "Verifying transaction: done\n",
      "Executing transaction: done\n",
      "Collecting package metadata: done\n",
      "Solving environment: - \n",
      "The environment is inconsistent, please check the package plan carefully\n",
      "The following packages are causing the inconsistency:\n",
      "\n",
      "  - defaults/linux-64::anaconda==5.3.1=py37_0\n",
      "  - defaults/linux-64::astropy==3.0.4=py37h14c3975_0\n",
      "  - defaults/linux-64::bkcharts==0.2=py37_0\n",
      "  - defaults/linux-64::blaze==0.11.3=py37_0\n",
      "  - defaults/linux-64::bokeh==0.13.0=py37_0\n",
      "  - defaults/linux-64::bottleneck==1.2.1=py37h035aef0_1\n",
      "  - defaults/linux-64::dask==0.19.1=py37_0\n",
      "  - defaults/linux-64::datashape==0.5.4=py37_1\n",
      "  - defaults/linux-64::mkl-service==1.1.2=py37h90e4bf4_5\n",
      "  - defaults/linux-64::numba==0.39.0=py37h04863e7_0\n",
      "  - defaults/linux-64::numexpr==2.6.8=py37hd89afb7_0\n",
      "  - defaults/linux-64::odo==0.5.1=py37_0\n",
      "  - defaults/linux-64::pytables==3.4.4=py37ha205bf6_0\n",
      "  - defaults/linux-64::pytest-arraydiff==0.2=py37h39e3cac_0\n",
      "  - defaults/linux-64::pytest-astropy==0.4.0=py37_0\n",
      "  - defaults/linux-64::pytest-doctestplus==0.1.3=py37_0\n",
      "  - defaults/linux-64::pywavelets==1.0.0=py37hdd07704_0\n",
      "  - defaults/linux-64::scikit-image==0.14.0=py37hf484d3e_1\n",
      "done\n",
      "\n",
      "# All requested packages already installed.\n",
      "\n",
      "Folium installed\n",
      "Libraries imported.\n"
     ]
    }
   ],
   "source": [
    "import requests # library to handle requests\n",
    "import pandas as pd # library for data analsysis\n",
    "import numpy as np # library to handle data in a vectorized manner\n",
    "import random # library for random number generation\n",
    "\n",
    "!conda install -c conda-forge geopy --yes \n",
    "from geopy.geocoders import Nominatim # module to convert an address into latitude and longitude values\n",
    "\n",
    "# libraries for displaying images\n",
    "from IPython.display import Image \n",
    "from IPython.core.display import HTML \n",
    "    \n",
    "# tranforming json file into a pandas dataframe library\n",
    "from pandas.io.json import json_normalize\n",
    "\n",
    "!conda install -c conda-forge folium=0.5.0 --yes\n",
    "import folium # plotting library\n",
    "\n",
    "print('Folium installed')\n",
    "print('Libraries imported.')"
   ]
  },
  {
   "cell_type": "markdown",
   "metadata": {
    "button": false,
    "deletable": true,
    "new_sheet": false,
    "run_control": {
     "read_only": false
    }
   },
   "source": [
    "### Define Foursquare Credentials and Version"
   ]
  },
  {
   "cell_type": "code",
   "execution_count": 2,
   "metadata": {
    "button": false,
    "collapsed": false,
    "deletable": true,
    "new_sheet": false,
    "run_control": {
     "read_only": false
    }
   },
   "outputs": [
    {
     "name": "stdout",
     "output_type": "stream",
     "text": [
      "Your credentails:\n",
      "CLIENT_ID: MLXEW5RUTUP5I3VULF5NK2OC50MGMZGAPTXUQDJKLJVGJ4DS\n",
      "CLIENT_SECRET:CXUFS15FNKQF2XUSYJYC0IVQPEZP2541SRPHCASOIBKJXRBO\n"
     ]
    }
   ],
   "source": [
    "CLIENT_ID = 'MLXEW5RUTUP5I3VULF5NK2OC50MGMZGAPTXUQDJKLJVGJ4DS' # your Foursquare ID\n",
    "CLIENT_SECRET = 'CXUFS15FNKQF2XUSYJYC0IVQPEZP2541SRPHCASOIBKJXRBO' # your Foursquare Secret\n",
    "VERSION = '20180604'\n",
    "LIMIT = 30\n",
    "print('Your credentails:')\n",
    "print('CLIENT_ID: ' + CLIENT_ID)\n",
    "print('CLIENT_SECRET:' + CLIENT_SECRET)"
   ]
  },
  {
   "cell_type": "markdown",
   "metadata": {
    "button": false,
    "deletable": true,
    "new_sheet": false,
    "run_control": {
     "read_only": false
    }
   },
   "source": [
    "  "
   ]
  },
  {
   "cell_type": "markdown",
   "metadata": {
    "button": false,
    "deletable": true,
    "new_sheet": false,
    "run_control": {
     "read_only": false
    }
   },
   "source": [
    "#### Let's assume that client is visiting Pune, let's find out it's location details"
   ]
  },
  {
   "cell_type": "code",
   "execution_count": 3,
   "metadata": {
    "button": false,
    "collapsed": false,
    "deletable": true,
    "new_sheet": false,
    "run_control": {
     "read_only": false
    }
   },
   "outputs": [
    {
     "name": "stdout",
     "output_type": "stream",
     "text": [
      "18.5203062 73.8543185\n"
     ]
    }
   ],
   "source": [
    "address = 'Pune, Maharashtra, India'\n",
    "\n",
    "geolocator = Nominatim(user_agent=\"foursquare_agent\")\n",
    "location = geolocator.geocode(address)\n",
    "latitude = location.latitude\n",
    "longitude = location.longitude\n",
    "print(latitude, longitude)"
   ]
  },
  {
   "cell_type": "markdown",
   "metadata": {
    "button": false,
    "deletable": true,
    "new_sheet": false,
    "run_control": {
     "read_only": false
    }
   },
   "source": [
    "   "
   ]
  },
  {
   "cell_type": "markdown",
   "metadata": {
    "button": false,
    "deletable": true,
    "new_sheet": false,
    "run_control": {
     "read_only": false
    }
   },
   "source": [
    "<a id=\"item1\"></a>"
   ]
  },
  {
   "cell_type": "markdown",
   "metadata": {
    "button": false,
    "deletable": true,
    "new_sheet": false,
    "run_control": {
     "read_only": false
    }
   },
   "source": [
    "##  Search for a specific venue category\n",
    "> `https://api.foursquare.com/v2/venues/`**search**`?client_id=`**CLIENT_ID**`&client_secret=`**CLIENT_SECRET**`&ll=`**LATITUDE**`,`**LONGITUDE**`&v=`**VERSION**`&query=`**QUERY**`&radius=`**RADIUS**`&limit=`**LIMIT**"
   ]
  },
  {
   "cell_type": "markdown",
   "metadata": {
    "button": false,
    "deletable": true,
    "new_sheet": false,
    "run_control": {
     "read_only": false
    }
   },
   "source": [
    "#### Now, let's assume that client is looking for a place to stay. So, let's define a query to search hotels in Pune."
   ]
  },
  {
   "cell_type": "code",
   "execution_count": 41,
   "metadata": {
    "button": false,
    "collapsed": false,
    "deletable": true,
    "new_sheet": false,
    "run_control": {
     "read_only": false
    },
    "scrolled": true
   },
   "outputs": [
    {
     "name": "stdout",
     "output_type": "stream",
     "text": [
      "Hotel .... OK!\n"
     ]
    }
   ],
   "source": [
    "search_query = 'Hotel'\n",
    "radius = 500\n",
    "print(search_query + ' .... OK!')"
   ]
  },
  {
   "cell_type": "code",
   "execution_count": 42,
   "metadata": {
    "button": false,
    "collapsed": false,
    "deletable": true,
    "new_sheet": false,
    "run_control": {
     "read_only": false
    }
   },
   "outputs": [
    {
     "data": {
      "text/plain": [
       "'https://api.foursquare.com/v2/venues/search?client_id=MLXEW5RUTUP5I3VULF5NK2OC50MGMZGAPTXUQDJKLJVGJ4DS&client_secret=CXUFS15FNKQF2XUSYJYC0IVQPEZP2541SRPHCASOIBKJXRBO&ll=18.5203062,73.8543185&v=20180604&query=Hotel&radius=500&limit=30'"
      ]
     },
     "execution_count": 42,
     "metadata": {},
     "output_type": "execute_result"
    }
   ],
   "source": [
    "url = 'https://api.foursquare.com/v2/venues/search?client_id={}&client_secret={}&ll={},{}&v={}&query={}&radius={}&limit={}'.format(CLIENT_ID, CLIENT_SECRET, latitude, longitude, VERSION, search_query, radius, LIMIT)\n",
    "url"
   ]
  },
  {
   "cell_type": "code",
   "execution_count": 43,
   "metadata": {
    "button": false,
    "collapsed": false,
    "deletable": true,
    "new_sheet": false,
    "run_control": {
     "read_only": false
    },
    "scrolled": true
   },
   "outputs": [
    {
     "data": {
      "text/plain": [
       "{'meta': {'code': 200, 'requestId': '5cb584a64c1f6726f17de13c'},\n",
       " 'response': {'venues': [{'id': '4ea229169adff634398e4d82',\n",
       "    'name': 'Hotel HariOm',\n",
       "    'location': {'lat': 18.51998272246323,\n",
       "     'lng': 73.8500439164682,\n",
       "     'labeledLatLngs': [{'label': 'display',\n",
       "       'lat': 18.51998272246323,\n",
       "       'lng': 73.8500439164682}],\n",
       "     'distance': 452,\n",
       "     'cc': 'IN',\n",
       "     'country': 'India',\n",
       "     'formattedAddress': ['India']},\n",
       "    'categories': [{'id': '4bf58dd8d48988d1dc931735',\n",
       "      'name': 'Tea Room',\n",
       "      'pluralName': 'Tea Rooms',\n",
       "      'shortName': 'Tea Room',\n",
       "      'icon': {'prefix': 'https://ss3.4sqi.net/img/categories_v2/food/tearoom_',\n",
       "       'suffix': '.png'},\n",
       "      'primary': True}],\n",
       "    'referralId': 'v-1555399846',\n",
       "    'hasPerk': False},\n",
       "   {'id': '4bdedb1dfe0e62b563000606',\n",
       "    'name': 'Hotel Courtyard Hinjewa Pune',\n",
       "    'location': {'address': '4800 B SPEARHEAD DRIVE',\n",
       "     'lat': 18.520148665387875,\n",
       "     'lng': 73.85616358429898,\n",
       "     'labeledLatLngs': [{'label': 'display',\n",
       "       'lat': 18.520148665387875,\n",
       "       'lng': 73.85616358429898}],\n",
       "     'distance': 195,\n",
       "     'cc': 'IN',\n",
       "     'city': 'Pune',\n",
       "     'state': 'Mahārāshtra',\n",
       "     'country': 'India',\n",
       "     'formattedAddress': ['4800 B SPEARHEAD DRIVE',\n",
       "      'Pune',\n",
       "      'Mahārāshtra',\n",
       "      'India']},\n",
       "    'categories': [],\n",
       "    'referralId': 'v-1555399846',\n",
       "    'hasPerk': False},\n",
       "   {'id': '5101797ae4b0d12593642837',\n",
       "    'name': 'Hotel Kimaya Tapri',\n",
       "    'location': {'address': 'Hotel Kimaya',\n",
       "     'crossStreet': 'Karve Road',\n",
       "     'lat': 18.5204303,\n",
       "     'lng': 73.8567437,\n",
       "     'labeledLatLngs': [{'label': 'display',\n",
       "       'lat': 18.5204303,\n",
       "       'lng': 73.8567437}],\n",
       "     'distance': 256,\n",
       "     'cc': 'IN',\n",
       "     'city': 'Pune',\n",
       "     'state': 'Mahārāshtra',\n",
       "     'country': 'India',\n",
       "     'formattedAddress': ['Hotel Kimaya (Karve Road)',\n",
       "      'Pune',\n",
       "      'Mahārāshtra',\n",
       "      'India']},\n",
       "    'categories': [{'id': '4bf58dd8d48988d123951735',\n",
       "      'name': 'Smoke Shop',\n",
       "      'pluralName': 'Smoke Shops',\n",
       "      'shortName': 'Smoke Shop',\n",
       "      'icon': {'prefix': 'https://ss3.4sqi.net/img/categories_v2/shops/tobacco_',\n",
       "       'suffix': '.png'},\n",
       "      'primary': True}],\n",
       "    'referralId': 'v-1555399846',\n",
       "    'hasPerk': False},\n",
       "   {'id': '4fd4b657e4b02bec732a0728',\n",
       "    'name': 'Hotel Silver Court',\n",
       "    'location': {'address': 'Bhugaon',\n",
       "     'lat': 18.5204303,\n",
       "     'lng': 73.8567437,\n",
       "     'labeledLatLngs': [{'label': 'display',\n",
       "       'lat': 18.5204303,\n",
       "       'lng': 73.8567437}],\n",
       "     'distance': 256,\n",
       "     'cc': 'IN',\n",
       "     'city': 'Pune',\n",
       "     'state': 'Mahārāshtra',\n",
       "     'country': 'India',\n",
       "     'formattedAddress': ['Bhugaon', 'Pune', 'Mahārāshtra', 'India']},\n",
       "    'categories': [{'id': '4bf58dd8d48988d1ce941735',\n",
       "      'name': 'Seafood Restaurant',\n",
       "      'pluralName': 'Seafood Restaurants',\n",
       "      'shortName': 'Seafood',\n",
       "      'icon': {'prefix': 'https://ss3.4sqi.net/img/categories_v2/food/seafood_',\n",
       "       'suffix': '.png'},\n",
       "      'primary': True}],\n",
       "    'referralId': 'v-1555399846',\n",
       "    'hasPerk': False},\n",
       "   {'id': '4f953d10e4b0e29f56224fd5',\n",
       "    'name': 'Hotel Basera',\n",
       "    'location': {'crossStreet': 'Bajirao road',\n",
       "     'lat': 18.517809504613734,\n",
       "     'lng': 73.85398127352735,\n",
       "     'labeledLatLngs': [{'label': 'display',\n",
       "       'lat': 18.517809504613734,\n",
       "       'lng': 73.85398127352735}],\n",
       "     'distance': 280,\n",
       "     'cc': 'IN',\n",
       "     'city': 'Pune',\n",
       "     'state': 'Mahārāshtra',\n",
       "     'country': 'India',\n",
       "     'formattedAddress': ['Bajirao road', 'Pune', 'Mahārāshtra', 'India']},\n",
       "    'categories': [{'id': '4bf58dd8d48988d1fa931735',\n",
       "      'name': 'Hotel',\n",
       "      'pluralName': 'Hotels',\n",
       "      'shortName': 'Hotel',\n",
       "      'icon': {'prefix': 'https://ss3.4sqi.net/img/categories_v2/travel/hotel_',\n",
       "       'suffix': '.png'},\n",
       "      'primary': True}],\n",
       "    'referralId': 'v-1555399846',\n",
       "    'hasPerk': False},\n",
       "   {'id': '509f701b498ec5d3bffdd561',\n",
       "    'name': 'Hotel Shree Ganaraj',\n",
       "    'location': {'address': 'Near Narayan Peth Police Chowki',\n",
       "     'crossStreet': 'Omkareshwar Temple Road',\n",
       "     'lat': 18.5180024935966,\n",
       "     'lng': 73.85000136554768,\n",
       "     'labeledLatLngs': [{'label': 'display',\n",
       "       'lat': 18.5180024935966,\n",
       "       'lng': 73.85000136554768}],\n",
       "     'distance': 522,\n",
       "     'cc': 'IN',\n",
       "     'city': 'Pune',\n",
       "     'state': 'Mahārāshtra',\n",
       "     'country': 'India',\n",
       "     'formattedAddress': ['Near Narayan Peth Police Chowki (Omkareshwar Temple Road)',\n",
       "      'Pune',\n",
       "      'Mahārāshtra',\n",
       "      'India']},\n",
       "    'categories': [{'id': '4bf58dd8d48988d1c4941735',\n",
       "      'name': 'Restaurant',\n",
       "      'pluralName': 'Restaurants',\n",
       "      'shortName': 'Restaurant',\n",
       "      'icon': {'prefix': 'https://ss3.4sqi.net/img/categories_v2/food/default_',\n",
       "       'suffix': '.png'},\n",
       "      'primary': True}],\n",
       "    'referralId': 'v-1555399846',\n",
       "    'hasPerk': False},\n",
       "   {'id': '50039a69e4b000090ffd4b02',\n",
       "    'name': 'Hotel Mamta',\n",
       "    'location': {'address': 'Near Pune Muncipal Corporation',\n",
       "     'lat': 18.52376870671108,\n",
       "     'lng': 73.85516431868572,\n",
       "     'labeledLatLngs': [{'label': 'display',\n",
       "       'lat': 18.52376870671108,\n",
       "       'lng': 73.85516431868572}],\n",
       "     'distance': 395,\n",
       "     'cc': 'IN',\n",
       "     'city': 'Pune',\n",
       "     'state': 'Mahārāshtra',\n",
       "     'country': 'India',\n",
       "     'formattedAddress': ['Near Pune Muncipal Corporation',\n",
       "      'Pune',\n",
       "      'Mahārāshtra',\n",
       "      'India']},\n",
       "    'categories': [{'id': '4bf58dd8d48988d10f941735',\n",
       "      'name': 'Indian Restaurant',\n",
       "      'pluralName': 'Indian Restaurants',\n",
       "      'shortName': 'Indian',\n",
       "      'icon': {'prefix': 'https://ss3.4sqi.net/img/categories_v2/food/indian_',\n",
       "       'suffix': '.png'},\n",
       "      'primary': True}],\n",
       "    'referralId': 'v-1555399846',\n",
       "    'hasPerk': False},\n",
       "   {'id': '537392d5498ee7d5aec416b6',\n",
       "    'name': 'Hotel Trupti',\n",
       "    'location': {'address': '551',\n",
       "     'crossStreet': 'Shaniwar Peth',\n",
       "     'lat': 18.51643228821962,\n",
       "     'lng': 73.85179893856323,\n",
       "     'labeledLatLngs': [{'label': 'display',\n",
       "       'lat': 18.51643228821962,\n",
       "       'lng': 73.85179893856323}],\n",
       "     'distance': 506,\n",
       "     'cc': 'IN',\n",
       "     'city': 'Pune',\n",
       "     'state': 'Mahārāshtra',\n",
       "     'country': 'India',\n",
       "     'formattedAddress': ['551 (Shaniwar Peth)',\n",
       "      'Pune',\n",
       "      'Mahārāshtra',\n",
       "      'India']},\n",
       "    'categories': [{'id': '4bf58dd8d48988d10f941735',\n",
       "      'name': 'Indian Restaurant',\n",
       "      'pluralName': 'Indian Restaurants',\n",
       "      'shortName': 'Indian',\n",
       "      'icon': {'prefix': 'https://ss3.4sqi.net/img/categories_v2/food/indian_',\n",
       "       'suffix': '.png'},\n",
       "      'primary': True}],\n",
       "    'referralId': 'v-1555399846',\n",
       "    'hasPerk': False},\n",
       "   {'id': '5b2e247accad6b00393bd327',\n",
       "    'name': 'Hotel Malvan',\n",
       "    'location': {'address': 'Hotel Malvan, near Kanya Shala',\n",
       "     'crossStreet': 'NC kelkar road, Narayan Peth.',\n",
       "     'lat': 18.516312,\n",
       "     'lng': 73.85155,\n",
       "     'labeledLatLngs': [{'label': 'display',\n",
       "       'lat': 18.516312,\n",
       "       'lng': 73.85155}],\n",
       "     'distance': 532,\n",
       "     'postalCode': '411030',\n",
       "     'cc': 'IN',\n",
       "     'city': 'Pune',\n",
       "     'state': 'Mahārāshtra',\n",
       "     'country': 'India',\n",
       "     'formattedAddress': ['Hotel Malvan, near Kanya Shala (NC kelkar road, Narayan Peth.)',\n",
       "      'Pune 411030',\n",
       "      'Mahārāshtra',\n",
       "      'India']},\n",
       "    'categories': [{'id': '4bf58dd8d48988d1ce941735',\n",
       "      'name': 'Seafood Restaurant',\n",
       "      'pluralName': 'Seafood Restaurants',\n",
       "      'shortName': 'Seafood',\n",
       "      'icon': {'prefix': 'https://ss3.4sqi.net/img/categories_v2/food/seafood_',\n",
       "       'suffix': '.png'},\n",
       "      'primary': True}],\n",
       "    'referralId': 'v-1555399846',\n",
       "    'hasPerk': False},\n",
       "   {'id': '513a26a8e4b098404dd3beb0',\n",
       "    'name': 'Ramdas Hotel',\n",
       "    'location': {'address': 'Shaniwar Peth',\n",
       "     'crossStreet': 'Opp. Ahilyadevi High School',\n",
       "     'lat': 18.52213008030727,\n",
       "     'lng': 73.85243641259292,\n",
       "     'labeledLatLngs': [{'label': 'display',\n",
       "       'lat': 18.52213008030727,\n",
       "       'lng': 73.85243641259292}],\n",
       "     'distance': 284,\n",
       "     'postalCode': '411030',\n",
       "     'cc': 'IN',\n",
       "     'city': 'Pune',\n",
       "     'state': 'Mahārāshtra',\n",
       "     'country': 'India',\n",
       "     'formattedAddress': ['Shaniwar Peth (Opp. Ahilyadevi High School)',\n",
       "      'Pune 411030',\n",
       "      'Mahārāshtra',\n",
       "      'India']},\n",
       "    'categories': [{'id': '4bf58dd8d48988d10f941735',\n",
       "      'name': 'Indian Restaurant',\n",
       "      'pluralName': 'Indian Restaurants',\n",
       "      'shortName': 'Indian',\n",
       "      'icon': {'prefix': 'https://ss3.4sqi.net/img/categories_v2/food/indian_',\n",
       "       'suffix': '.png'},\n",
       "      'primary': True}],\n",
       "    'referralId': 'v-1555399846',\n",
       "    'hasPerk': False},\n",
       "   {'id': '4c8cfd090bcbbfb742a6e4fe',\n",
       "    'name': 'Raj Restaurant',\n",
       "    'location': {'address': 'Shaniwar peth',\n",
       "     'crossStreet': 'Near Omkareshwar Temple',\n",
       "     'lat': 18.520096523157108,\n",
       "     'lng': 73.85024257438126,\n",
       "     'labeledLatLngs': [{'label': 'display',\n",
       "       'lat': 18.520096523157108,\n",
       "       'lng': 73.85024257438126}],\n",
       "     'distance': 430,\n",
       "     'cc': 'IN',\n",
       "     'city': 'Pune',\n",
       "     'state': 'Mahārāshtra',\n",
       "     'country': 'India',\n",
       "     'formattedAddress': ['Shaniwar peth (Near Omkareshwar Temple)',\n",
       "      'Pune',\n",
       "      'Mahārāshtra',\n",
       "      'India']},\n",
       "    'categories': [{'id': '4bf58dd8d48988d10f941735',\n",
       "      'name': 'Indian Restaurant',\n",
       "      'pluralName': 'Indian Restaurants',\n",
       "      'shortName': 'Indian',\n",
       "      'icon': {'prefix': 'https://ss3.4sqi.net/img/categories_v2/food/indian_',\n",
       "       'suffix': '.png'},\n",
       "      'primary': True}],\n",
       "    'referralId': 'v-1555399846',\n",
       "    'hasPerk': False}]}}"
      ]
     },
     "execution_count": 43,
     "metadata": {},
     "output_type": "execute_result"
    }
   ],
   "source": [
    "results = requests.get(url).json()\n",
    "results"
   ]
  },
  {
   "cell_type": "markdown",
   "metadata": {
    "button": false,
    "deletable": true,
    "new_sheet": false,
    "run_control": {
     "read_only": false
    }
   },
   "source": [
    "#### Get relevant part of JSON and transform it into a *pandas* dataframe"
   ]
  },
  {
   "cell_type": "code",
   "execution_count": 44,
   "metadata": {
    "button": false,
    "collapsed": false,
    "deletable": true,
    "new_sheet": false,
    "run_control": {
     "read_only": false
    }
   },
   "outputs": [
    {
     "data": {
      "text/html": [
       "<div>\n",
       "<style scoped>\n",
       "    .dataframe tbody tr th:only-of-type {\n",
       "        vertical-align: middle;\n",
       "    }\n",
       "\n",
       "    .dataframe tbody tr th {\n",
       "        vertical-align: top;\n",
       "    }\n",
       "\n",
       "    .dataframe thead th {\n",
       "        text-align: right;\n",
       "    }\n",
       "</style>\n",
       "<table border=\"1\" class=\"dataframe\">\n",
       "  <thead>\n",
       "    <tr style=\"text-align: right;\">\n",
       "      <th></th>\n",
       "      <th>categories</th>\n",
       "      <th>hasPerk</th>\n",
       "      <th>id</th>\n",
       "      <th>location.address</th>\n",
       "      <th>location.cc</th>\n",
       "      <th>location.city</th>\n",
       "      <th>location.country</th>\n",
       "      <th>location.crossStreet</th>\n",
       "      <th>location.distance</th>\n",
       "      <th>location.formattedAddress</th>\n",
       "      <th>location.labeledLatLngs</th>\n",
       "      <th>location.lat</th>\n",
       "      <th>location.lng</th>\n",
       "      <th>location.postalCode</th>\n",
       "      <th>location.state</th>\n",
       "      <th>name</th>\n",
       "      <th>referralId</th>\n",
       "    </tr>\n",
       "  </thead>\n",
       "  <tbody>\n",
       "    <tr>\n",
       "      <th>0</th>\n",
       "      <td>[{'id': '4bf58dd8d48988d1dc931735', 'name': 'Tea Room', 'pluralName': 'Tea Rooms', 'shortName': 'Tea Room', 'icon': {'prefix': 'https://ss3.4sqi.net/img/categories_v2/food/tearoom_', 'suffix': '.png'}, 'primary': True}]</td>\n",
       "      <td>False</td>\n",
       "      <td>4ea229169adff634398e4d82</td>\n",
       "      <td>NaN</td>\n",
       "      <td>IN</td>\n",
       "      <td>NaN</td>\n",
       "      <td>India</td>\n",
       "      <td>NaN</td>\n",
       "      <td>452</td>\n",
       "      <td>[India]</td>\n",
       "      <td>[{'label': 'display', 'lat': 18.51998272246323, 'lng': 73.8500439164682}]</td>\n",
       "      <td>18.519983</td>\n",
       "      <td>73.850044</td>\n",
       "      <td>NaN</td>\n",
       "      <td>NaN</td>\n",
       "      <td>Hotel HariOm</td>\n",
       "      <td>v-1555399846</td>\n",
       "    </tr>\n",
       "    <tr>\n",
       "      <th>1</th>\n",
       "      <td>[]</td>\n",
       "      <td>False</td>\n",
       "      <td>4bdedb1dfe0e62b563000606</td>\n",
       "      <td>4800 B SPEARHEAD DRIVE</td>\n",
       "      <td>IN</td>\n",
       "      <td>Pune</td>\n",
       "      <td>India</td>\n",
       "      <td>NaN</td>\n",
       "      <td>195</td>\n",
       "      <td>[4800 B SPEARHEAD DRIVE, Pune, Mahārāshtra, India]</td>\n",
       "      <td>[{'label': 'display', 'lat': 18.520148665387875, 'lng': 73.85616358429898}]</td>\n",
       "      <td>18.520149</td>\n",
       "      <td>73.856164</td>\n",
       "      <td>NaN</td>\n",
       "      <td>Mahārāshtra</td>\n",
       "      <td>Hotel Courtyard Hinjewa Pune</td>\n",
       "      <td>v-1555399846</td>\n",
       "    </tr>\n",
       "    <tr>\n",
       "      <th>2</th>\n",
       "      <td>[{'id': '4bf58dd8d48988d123951735', 'name': 'Smoke Shop', 'pluralName': 'Smoke Shops', 'shortName': 'Smoke Shop', 'icon': {'prefix': 'https://ss3.4sqi.net/img/categories_v2/shops/tobacco_', 'suffix': '.png'}, 'primary': True}]</td>\n",
       "      <td>False</td>\n",
       "      <td>5101797ae4b0d12593642837</td>\n",
       "      <td>Hotel Kimaya</td>\n",
       "      <td>IN</td>\n",
       "      <td>Pune</td>\n",
       "      <td>India</td>\n",
       "      <td>Karve Road</td>\n",
       "      <td>256</td>\n",
       "      <td>[Hotel Kimaya (Karve Road), Pune, Mahārāshtra, India]</td>\n",
       "      <td>[{'label': 'display', 'lat': 18.5204303, 'lng': 73.8567437}]</td>\n",
       "      <td>18.520430</td>\n",
       "      <td>73.856744</td>\n",
       "      <td>NaN</td>\n",
       "      <td>Mahārāshtra</td>\n",
       "      <td>Hotel Kimaya Tapri</td>\n",
       "      <td>v-1555399846</td>\n",
       "    </tr>\n",
       "    <tr>\n",
       "      <th>3</th>\n",
       "      <td>[{'id': '4bf58dd8d48988d1ce941735', 'name': 'Seafood Restaurant', 'pluralName': 'Seafood Restaurants', 'shortName': 'Seafood', 'icon': {'prefix': 'https://ss3.4sqi.net/img/categories_v2/food/seafood_', 'suffix': '.png'}, 'primary': True}]</td>\n",
       "      <td>False</td>\n",
       "      <td>4fd4b657e4b02bec732a0728</td>\n",
       "      <td>Bhugaon</td>\n",
       "      <td>IN</td>\n",
       "      <td>Pune</td>\n",
       "      <td>India</td>\n",
       "      <td>NaN</td>\n",
       "      <td>256</td>\n",
       "      <td>[Bhugaon, Pune, Mahārāshtra, India]</td>\n",
       "      <td>[{'label': 'display', 'lat': 18.5204303, 'lng': 73.8567437}]</td>\n",
       "      <td>18.520430</td>\n",
       "      <td>73.856744</td>\n",
       "      <td>NaN</td>\n",
       "      <td>Mahārāshtra</td>\n",
       "      <td>Hotel Silver Court</td>\n",
       "      <td>v-1555399846</td>\n",
       "    </tr>\n",
       "    <tr>\n",
       "      <th>4</th>\n",
       "      <td>[{'id': '4bf58dd8d48988d1fa931735', 'name': 'Hotel', 'pluralName': 'Hotels', 'shortName': 'Hotel', 'icon': {'prefix': 'https://ss3.4sqi.net/img/categories_v2/travel/hotel_', 'suffix': '.png'}, 'primary': True}]</td>\n",
       "      <td>False</td>\n",
       "      <td>4f953d10e4b0e29f56224fd5</td>\n",
       "      <td>NaN</td>\n",
       "      <td>IN</td>\n",
       "      <td>Pune</td>\n",
       "      <td>India</td>\n",
       "      <td>Bajirao road</td>\n",
       "      <td>280</td>\n",
       "      <td>[Bajirao road, Pune, Mahārāshtra, India]</td>\n",
       "      <td>[{'label': 'display', 'lat': 18.517809504613734, 'lng': 73.85398127352735}]</td>\n",
       "      <td>18.517810</td>\n",
       "      <td>73.853981</td>\n",
       "      <td>NaN</td>\n",
       "      <td>Mahārāshtra</td>\n",
       "      <td>Hotel Basera</td>\n",
       "      <td>v-1555399846</td>\n",
       "    </tr>\n",
       "  </tbody>\n",
       "</table>\n",
       "</div>"
      ],
      "text/plain": [
       "                                                                                                                                                                                                                                       categories  \\\n",
       "0  [{'id': '4bf58dd8d48988d1dc931735', 'name': 'Tea Room', 'pluralName': 'Tea Rooms', 'shortName': 'Tea Room', 'icon': {'prefix': 'https://ss3.4sqi.net/img/categories_v2/food/tearoom_', 'suffix': '.png'}, 'primary': True}]                      \n",
       "1  []                                                                                                                                                                                                                                               \n",
       "2  [{'id': '4bf58dd8d48988d123951735', 'name': 'Smoke Shop', 'pluralName': 'Smoke Shops', 'shortName': 'Smoke Shop', 'icon': {'prefix': 'https://ss3.4sqi.net/img/categories_v2/shops/tobacco_', 'suffix': '.png'}, 'primary': True}]               \n",
       "3  [{'id': '4bf58dd8d48988d1ce941735', 'name': 'Seafood Restaurant', 'pluralName': 'Seafood Restaurants', 'shortName': 'Seafood', 'icon': {'prefix': 'https://ss3.4sqi.net/img/categories_v2/food/seafood_', 'suffix': '.png'}, 'primary': True}]   \n",
       "4  [{'id': '4bf58dd8d48988d1fa931735', 'name': 'Hotel', 'pluralName': 'Hotels', 'shortName': 'Hotel', 'icon': {'prefix': 'https://ss3.4sqi.net/img/categories_v2/travel/hotel_', 'suffix': '.png'}, 'primary': True}]                               \n",
       "\n",
       "   hasPerk                        id        location.address location.cc  \\\n",
       "0  False    4ea229169adff634398e4d82  NaN                     IN           \n",
       "1  False    4bdedb1dfe0e62b563000606  4800 B SPEARHEAD DRIVE  IN           \n",
       "2  False    5101797ae4b0d12593642837  Hotel Kimaya            IN           \n",
       "3  False    4fd4b657e4b02bec732a0728  Bhugaon                 IN           \n",
       "4  False    4f953d10e4b0e29f56224fd5  NaN                     IN           \n",
       "\n",
       "  location.city location.country location.crossStreet  location.distance  \\\n",
       "0  NaN           India            NaN                  452                 \n",
       "1  Pune          India            NaN                  195                 \n",
       "2  Pune          India            Karve Road           256                 \n",
       "3  Pune          India            NaN                  256                 \n",
       "4  Pune          India            Bajirao road         280                 \n",
       "\n",
       "                               location.formattedAddress  \\\n",
       "0  [India]                                                 \n",
       "1  [4800 B SPEARHEAD DRIVE, Pune, Mahārāshtra, India]      \n",
       "2  [Hotel Kimaya (Karve Road), Pune, Mahārāshtra, India]   \n",
       "3  [Bhugaon, Pune, Mahārāshtra, India]                     \n",
       "4  [Bajirao road, Pune, Mahārāshtra, India]                \n",
       "\n",
       "                                                       location.labeledLatLngs  \\\n",
       "0  [{'label': 'display', 'lat': 18.51998272246323, 'lng': 73.8500439164682}]     \n",
       "1  [{'label': 'display', 'lat': 18.520148665387875, 'lng': 73.85616358429898}]   \n",
       "2  [{'label': 'display', 'lat': 18.5204303, 'lng': 73.8567437}]                  \n",
       "3  [{'label': 'display', 'lat': 18.5204303, 'lng': 73.8567437}]                  \n",
       "4  [{'label': 'display', 'lat': 18.517809504613734, 'lng': 73.85398127352735}]   \n",
       "\n",
       "   location.lat  location.lng location.postalCode location.state  \\\n",
       "0  18.519983     73.850044     NaN                 NaN             \n",
       "1  18.520149     73.856164     NaN                 Mahārāshtra     \n",
       "2  18.520430     73.856744     NaN                 Mahārāshtra     \n",
       "3  18.520430     73.856744     NaN                 Mahārāshtra     \n",
       "4  18.517810     73.853981     NaN                 Mahārāshtra     \n",
       "\n",
       "                           name    referralId  \n",
       "0  Hotel HariOm                  v-1555399846  \n",
       "1  Hotel Courtyard Hinjewa Pune  v-1555399846  \n",
       "2  Hotel Kimaya Tapri            v-1555399846  \n",
       "3  Hotel Silver Court            v-1555399846  \n",
       "4  Hotel Basera                  v-1555399846  "
      ]
     },
     "execution_count": 44,
     "metadata": {},
     "output_type": "execute_result"
    }
   ],
   "source": [
    "# assign relevant part of JSON to venues\n",
    "venues = results['response']['venues']\n",
    "\n",
    "# tranform venues into a dataframe\n",
    "dataframe = json_normalize(venues)\n",
    "dataframe.head()"
   ]
  },
  {
   "cell_type": "markdown",
   "metadata": {
    "button": false,
    "deletable": true,
    "new_sheet": false,
    "run_control": {
     "read_only": false
    }
   },
   "source": [
    "#### Define information of interest and filter dataframe"
   ]
  },
  {
   "cell_type": "code",
   "execution_count": 45,
   "metadata": {
    "button": false,
    "collapsed": false,
    "deletable": true,
    "new_sheet": false,
    "run_control": {
     "read_only": false
    },
    "scrolled": true
   },
   "outputs": [
    {
     "data": {
      "text/html": [
       "<div>\n",
       "<style scoped>\n",
       "    .dataframe tbody tr th:only-of-type {\n",
       "        vertical-align: middle;\n",
       "    }\n",
       "\n",
       "    .dataframe tbody tr th {\n",
       "        vertical-align: top;\n",
       "    }\n",
       "\n",
       "    .dataframe thead th {\n",
       "        text-align: right;\n",
       "    }\n",
       "</style>\n",
       "<table border=\"1\" class=\"dataframe\">\n",
       "  <thead>\n",
       "    <tr style=\"text-align: right;\">\n",
       "      <th></th>\n",
       "      <th>name</th>\n",
       "      <th>categories</th>\n",
       "      <th>address</th>\n",
       "      <th>cc</th>\n",
       "      <th>city</th>\n",
       "      <th>country</th>\n",
       "      <th>crossStreet</th>\n",
       "      <th>distance</th>\n",
       "      <th>formattedAddress</th>\n",
       "      <th>labeledLatLngs</th>\n",
       "      <th>lat</th>\n",
       "      <th>lng</th>\n",
       "      <th>postalCode</th>\n",
       "      <th>state</th>\n",
       "      <th>id</th>\n",
       "    </tr>\n",
       "  </thead>\n",
       "  <tbody>\n",
       "    <tr>\n",
       "      <th>0</th>\n",
       "      <td>Hotel HariOm</td>\n",
       "      <td>Tea Room</td>\n",
       "      <td>NaN</td>\n",
       "      <td>IN</td>\n",
       "      <td>NaN</td>\n",
       "      <td>India</td>\n",
       "      <td>NaN</td>\n",
       "      <td>452</td>\n",
       "      <td>[India]</td>\n",
       "      <td>[{'label': 'display', 'lat': 18.51998272246323, 'lng': 73.8500439164682}]</td>\n",
       "      <td>18.519983</td>\n",
       "      <td>73.850044</td>\n",
       "      <td>NaN</td>\n",
       "      <td>NaN</td>\n",
       "      <td>4ea229169adff634398e4d82</td>\n",
       "    </tr>\n",
       "    <tr>\n",
       "      <th>1</th>\n",
       "      <td>Hotel Courtyard Hinjewa Pune</td>\n",
       "      <td>None</td>\n",
       "      <td>4800 B SPEARHEAD DRIVE</td>\n",
       "      <td>IN</td>\n",
       "      <td>Pune</td>\n",
       "      <td>India</td>\n",
       "      <td>NaN</td>\n",
       "      <td>195</td>\n",
       "      <td>[4800 B SPEARHEAD DRIVE, Pune, Mahārāshtra, India]</td>\n",
       "      <td>[{'label': 'display', 'lat': 18.520148665387875, 'lng': 73.85616358429898}]</td>\n",
       "      <td>18.520149</td>\n",
       "      <td>73.856164</td>\n",
       "      <td>NaN</td>\n",
       "      <td>Mahārāshtra</td>\n",
       "      <td>4bdedb1dfe0e62b563000606</td>\n",
       "    </tr>\n",
       "    <tr>\n",
       "      <th>2</th>\n",
       "      <td>Hotel Kimaya Tapri</td>\n",
       "      <td>Smoke Shop</td>\n",
       "      <td>Hotel Kimaya</td>\n",
       "      <td>IN</td>\n",
       "      <td>Pune</td>\n",
       "      <td>India</td>\n",
       "      <td>Karve Road</td>\n",
       "      <td>256</td>\n",
       "      <td>[Hotel Kimaya (Karve Road), Pune, Mahārāshtra, India]</td>\n",
       "      <td>[{'label': 'display', 'lat': 18.5204303, 'lng': 73.8567437}]</td>\n",
       "      <td>18.520430</td>\n",
       "      <td>73.856744</td>\n",
       "      <td>NaN</td>\n",
       "      <td>Mahārāshtra</td>\n",
       "      <td>5101797ae4b0d12593642837</td>\n",
       "    </tr>\n",
       "    <tr>\n",
       "      <th>3</th>\n",
       "      <td>Hotel Silver Court</td>\n",
       "      <td>Seafood Restaurant</td>\n",
       "      <td>Bhugaon</td>\n",
       "      <td>IN</td>\n",
       "      <td>Pune</td>\n",
       "      <td>India</td>\n",
       "      <td>NaN</td>\n",
       "      <td>256</td>\n",
       "      <td>[Bhugaon, Pune, Mahārāshtra, India]</td>\n",
       "      <td>[{'label': 'display', 'lat': 18.5204303, 'lng': 73.8567437}]</td>\n",
       "      <td>18.520430</td>\n",
       "      <td>73.856744</td>\n",
       "      <td>NaN</td>\n",
       "      <td>Mahārāshtra</td>\n",
       "      <td>4fd4b657e4b02bec732a0728</td>\n",
       "    </tr>\n",
       "    <tr>\n",
       "      <th>4</th>\n",
       "      <td>Hotel Basera</td>\n",
       "      <td>Hotel</td>\n",
       "      <td>NaN</td>\n",
       "      <td>IN</td>\n",
       "      <td>Pune</td>\n",
       "      <td>India</td>\n",
       "      <td>Bajirao road</td>\n",
       "      <td>280</td>\n",
       "      <td>[Bajirao road, Pune, Mahārāshtra, India]</td>\n",
       "      <td>[{'label': 'display', 'lat': 18.517809504613734, 'lng': 73.85398127352735}]</td>\n",
       "      <td>18.517810</td>\n",
       "      <td>73.853981</td>\n",
       "      <td>NaN</td>\n",
       "      <td>Mahārāshtra</td>\n",
       "      <td>4f953d10e4b0e29f56224fd5</td>\n",
       "    </tr>\n",
       "    <tr>\n",
       "      <th>5</th>\n",
       "      <td>Hotel Shree Ganaraj</td>\n",
       "      <td>Restaurant</td>\n",
       "      <td>Near Narayan Peth Police Chowki</td>\n",
       "      <td>IN</td>\n",
       "      <td>Pune</td>\n",
       "      <td>India</td>\n",
       "      <td>Omkareshwar Temple Road</td>\n",
       "      <td>522</td>\n",
       "      <td>[Near Narayan Peth Police Chowki (Omkareshwar Temple Road), Pune, Mahārāshtra, India]</td>\n",
       "      <td>[{'label': 'display', 'lat': 18.5180024935966, 'lng': 73.85000136554768}]</td>\n",
       "      <td>18.518002</td>\n",
       "      <td>73.850001</td>\n",
       "      <td>NaN</td>\n",
       "      <td>Mahārāshtra</td>\n",
       "      <td>509f701b498ec5d3bffdd561</td>\n",
       "    </tr>\n",
       "    <tr>\n",
       "      <th>6</th>\n",
       "      <td>Hotel Mamta</td>\n",
       "      <td>Indian Restaurant</td>\n",
       "      <td>Near Pune Muncipal Corporation</td>\n",
       "      <td>IN</td>\n",
       "      <td>Pune</td>\n",
       "      <td>India</td>\n",
       "      <td>NaN</td>\n",
       "      <td>395</td>\n",
       "      <td>[Near Pune Muncipal Corporation, Pune, Mahārāshtra, India]</td>\n",
       "      <td>[{'label': 'display', 'lat': 18.52376870671108, 'lng': 73.85516431868572}]</td>\n",
       "      <td>18.523769</td>\n",
       "      <td>73.855164</td>\n",
       "      <td>NaN</td>\n",
       "      <td>Mahārāshtra</td>\n",
       "      <td>50039a69e4b000090ffd4b02</td>\n",
       "    </tr>\n",
       "    <tr>\n",
       "      <th>7</th>\n",
       "      <td>Hotel Trupti</td>\n",
       "      <td>Indian Restaurant</td>\n",
       "      <td>551</td>\n",
       "      <td>IN</td>\n",
       "      <td>Pune</td>\n",
       "      <td>India</td>\n",
       "      <td>Shaniwar Peth</td>\n",
       "      <td>506</td>\n",
       "      <td>[551 (Shaniwar Peth), Pune, Mahārāshtra, India]</td>\n",
       "      <td>[{'label': 'display', 'lat': 18.51643228821962, 'lng': 73.85179893856323}]</td>\n",
       "      <td>18.516432</td>\n",
       "      <td>73.851799</td>\n",
       "      <td>NaN</td>\n",
       "      <td>Mahārāshtra</td>\n",
       "      <td>537392d5498ee7d5aec416b6</td>\n",
       "    </tr>\n",
       "    <tr>\n",
       "      <th>8</th>\n",
       "      <td>Hotel Malvan</td>\n",
       "      <td>Seafood Restaurant</td>\n",
       "      <td>Hotel Malvan, near Kanya Shala</td>\n",
       "      <td>IN</td>\n",
       "      <td>Pune</td>\n",
       "      <td>India</td>\n",
       "      <td>NC kelkar road, Narayan Peth.</td>\n",
       "      <td>532</td>\n",
       "      <td>[Hotel Malvan, near Kanya Shala (NC kelkar road, Narayan Peth.), Pune 411030, Mahārāshtra, India]</td>\n",
       "      <td>[{'label': 'display', 'lat': 18.516312, 'lng': 73.85155}]</td>\n",
       "      <td>18.516312</td>\n",
       "      <td>73.851550</td>\n",
       "      <td>411030</td>\n",
       "      <td>Mahārāshtra</td>\n",
       "      <td>5b2e247accad6b00393bd327</td>\n",
       "    </tr>\n",
       "    <tr>\n",
       "      <th>9</th>\n",
       "      <td>Ramdas Hotel</td>\n",
       "      <td>Indian Restaurant</td>\n",
       "      <td>Shaniwar Peth</td>\n",
       "      <td>IN</td>\n",
       "      <td>Pune</td>\n",
       "      <td>India</td>\n",
       "      <td>Opp. Ahilyadevi High School</td>\n",
       "      <td>284</td>\n",
       "      <td>[Shaniwar Peth (Opp. Ahilyadevi High School), Pune 411030, Mahārāshtra, India]</td>\n",
       "      <td>[{'label': 'display', 'lat': 18.52213008030727, 'lng': 73.85243641259292}]</td>\n",
       "      <td>18.522130</td>\n",
       "      <td>73.852436</td>\n",
       "      <td>411030</td>\n",
       "      <td>Mahārāshtra</td>\n",
       "      <td>513a26a8e4b098404dd3beb0</td>\n",
       "    </tr>\n",
       "    <tr>\n",
       "      <th>10</th>\n",
       "      <td>Raj Restaurant</td>\n",
       "      <td>Indian Restaurant</td>\n",
       "      <td>Shaniwar peth</td>\n",
       "      <td>IN</td>\n",
       "      <td>Pune</td>\n",
       "      <td>India</td>\n",
       "      <td>Near Omkareshwar Temple</td>\n",
       "      <td>430</td>\n",
       "      <td>[Shaniwar peth (Near Omkareshwar Temple), Pune, Mahārāshtra, India]</td>\n",
       "      <td>[{'label': 'display', 'lat': 18.520096523157108, 'lng': 73.85024257438126}]</td>\n",
       "      <td>18.520097</td>\n",
       "      <td>73.850243</td>\n",
       "      <td>NaN</td>\n",
       "      <td>Mahārāshtra</td>\n",
       "      <td>4c8cfd090bcbbfb742a6e4fe</td>\n",
       "    </tr>\n",
       "  </tbody>\n",
       "</table>\n",
       "</div>"
      ],
      "text/plain": [
       "                            name          categories  \\\n",
       "0   Hotel HariOm                  Tea Room             \n",
       "1   Hotel Courtyard Hinjewa Pune  None                 \n",
       "2   Hotel Kimaya Tapri            Smoke Shop           \n",
       "3   Hotel Silver Court            Seafood Restaurant   \n",
       "4   Hotel Basera                  Hotel                \n",
       "5   Hotel Shree Ganaraj           Restaurant           \n",
       "6   Hotel Mamta                   Indian Restaurant    \n",
       "7   Hotel Trupti                  Indian Restaurant    \n",
       "8   Hotel Malvan                  Seafood Restaurant   \n",
       "9   Ramdas Hotel                  Indian Restaurant    \n",
       "10  Raj Restaurant                Indian Restaurant    \n",
       "\n",
       "                            address  cc  city country  \\\n",
       "0   NaN                              IN  NaN   India    \n",
       "1   4800 B SPEARHEAD DRIVE           IN  Pune  India    \n",
       "2   Hotel Kimaya                     IN  Pune  India    \n",
       "3   Bhugaon                          IN  Pune  India    \n",
       "4   NaN                              IN  Pune  India    \n",
       "5   Near Narayan Peth Police Chowki  IN  Pune  India    \n",
       "6   Near Pune Muncipal Corporation   IN  Pune  India    \n",
       "7   551                              IN  Pune  India    \n",
       "8   Hotel Malvan, near Kanya Shala   IN  Pune  India    \n",
       "9   Shaniwar Peth                    IN  Pune  India    \n",
       "10  Shaniwar peth                    IN  Pune  India    \n",
       "\n",
       "                      crossStreet  distance  \\\n",
       "0   NaN                            452        \n",
       "1   NaN                            195        \n",
       "2   Karve Road                     256        \n",
       "3   NaN                            256        \n",
       "4   Bajirao road                   280        \n",
       "5   Omkareshwar Temple Road        522        \n",
       "6   NaN                            395        \n",
       "7   Shaniwar Peth                  506        \n",
       "8   NC kelkar road, Narayan Peth.  532        \n",
       "9   Opp. Ahilyadevi High School    284        \n",
       "10  Near Omkareshwar Temple        430        \n",
       "\n",
       "                                                                                     formattedAddress  \\\n",
       "0   [India]                                                                                             \n",
       "1   [4800 B SPEARHEAD DRIVE, Pune, Mahārāshtra, India]                                                  \n",
       "2   [Hotel Kimaya (Karve Road), Pune, Mahārāshtra, India]                                               \n",
       "3   [Bhugaon, Pune, Mahārāshtra, India]                                                                 \n",
       "4   [Bajirao road, Pune, Mahārāshtra, India]                                                            \n",
       "5   [Near Narayan Peth Police Chowki (Omkareshwar Temple Road), Pune, Mahārāshtra, India]               \n",
       "6   [Near Pune Muncipal Corporation, Pune, Mahārāshtra, India]                                          \n",
       "7   [551 (Shaniwar Peth), Pune, Mahārāshtra, India]                                                     \n",
       "8   [Hotel Malvan, near Kanya Shala (NC kelkar road, Narayan Peth.), Pune 411030, Mahārāshtra, India]   \n",
       "9   [Shaniwar Peth (Opp. Ahilyadevi High School), Pune 411030, Mahārāshtra, India]                      \n",
       "10  [Shaniwar peth (Near Omkareshwar Temple), Pune, Mahārāshtra, India]                                 \n",
       "\n",
       "                                                                 labeledLatLngs  \\\n",
       "0   [{'label': 'display', 'lat': 18.51998272246323, 'lng': 73.8500439164682}]     \n",
       "1   [{'label': 'display', 'lat': 18.520148665387875, 'lng': 73.85616358429898}]   \n",
       "2   [{'label': 'display', 'lat': 18.5204303, 'lng': 73.8567437}]                  \n",
       "3   [{'label': 'display', 'lat': 18.5204303, 'lng': 73.8567437}]                  \n",
       "4   [{'label': 'display', 'lat': 18.517809504613734, 'lng': 73.85398127352735}]   \n",
       "5   [{'label': 'display', 'lat': 18.5180024935966, 'lng': 73.85000136554768}]     \n",
       "6   [{'label': 'display', 'lat': 18.52376870671108, 'lng': 73.85516431868572}]    \n",
       "7   [{'label': 'display', 'lat': 18.51643228821962, 'lng': 73.85179893856323}]    \n",
       "8   [{'label': 'display', 'lat': 18.516312, 'lng': 73.85155}]                     \n",
       "9   [{'label': 'display', 'lat': 18.52213008030727, 'lng': 73.85243641259292}]    \n",
       "10  [{'label': 'display', 'lat': 18.520096523157108, 'lng': 73.85024257438126}]   \n",
       "\n",
       "          lat        lng postalCode        state                        id  \n",
       "0   18.519983  73.850044  NaN        NaN          4ea229169adff634398e4d82  \n",
       "1   18.520149  73.856164  NaN        Mahārāshtra  4bdedb1dfe0e62b563000606  \n",
       "2   18.520430  73.856744  NaN        Mahārāshtra  5101797ae4b0d12593642837  \n",
       "3   18.520430  73.856744  NaN        Mahārāshtra  4fd4b657e4b02bec732a0728  \n",
       "4   18.517810  73.853981  NaN        Mahārāshtra  4f953d10e4b0e29f56224fd5  \n",
       "5   18.518002  73.850001  NaN        Mahārāshtra  509f701b498ec5d3bffdd561  \n",
       "6   18.523769  73.855164  NaN        Mahārāshtra  50039a69e4b000090ffd4b02  \n",
       "7   18.516432  73.851799  NaN        Mahārāshtra  537392d5498ee7d5aec416b6  \n",
       "8   18.516312  73.851550  411030     Mahārāshtra  5b2e247accad6b00393bd327  \n",
       "9   18.522130  73.852436  411030     Mahārāshtra  513a26a8e4b098404dd3beb0  \n",
       "10  18.520097  73.850243  NaN        Mahārāshtra  4c8cfd090bcbbfb742a6e4fe  "
      ]
     },
     "execution_count": 45,
     "metadata": {},
     "output_type": "execute_result"
    }
   ],
   "source": [
    "# keep only columns that include venue name, and anything that is associated with location\n",
    "filtered_columns = ['name', 'categories'] + [col for col in dataframe.columns if col.startswith('location.')] + ['id']\n",
    "dataframe_filtered = dataframe.loc[:, filtered_columns]\n",
    "\n",
    "# function that extracts the category of the venue\n",
    "def get_category_type(row):\n",
    "    try:\n",
    "        categories_list = row['categories']\n",
    "    except:\n",
    "        categories_list = row['venue.categories']\n",
    "        \n",
    "    if len(categories_list) == 0:\n",
    "        return None\n",
    "    else:\n",
    "        return categories_list[0]['name']\n",
    "\n",
    "# filter the category for each row\n",
    "dataframe_filtered['categories'] = dataframe_filtered.apply(get_category_type, axis=1)\n",
    "\n",
    "# clean column names by keeping only last term\n",
    "dataframe_filtered.columns = [column.split('.')[-1] for column in dataframe_filtered.columns]\n",
    "\n",
    "dataframe_filtered"
   ]
  },
  {
   "cell_type": "markdown",
   "metadata": {
    "button": false,
    "deletable": true,
    "new_sheet": false,
    "run_control": {
     "read_only": false
    }
   },
   "source": [
    "#### Let's visualize the hotels in Pune"
   ]
  },
  {
   "cell_type": "code",
   "execution_count": 46,
   "metadata": {
    "button": false,
    "collapsed": false,
    "deletable": true,
    "new_sheet": false,
    "run_control": {
     "read_only": false
    }
   },
   "outputs": [
    {
     "data": {
      "text/plain": [
       "0     Hotel HariOm                \n",
       "1     Hotel Courtyard Hinjewa Pune\n",
       "2     Hotel Kimaya Tapri          \n",
       "3     Hotel Silver Court          \n",
       "4     Hotel Basera                \n",
       "5     Hotel Shree Ganaraj         \n",
       "6     Hotel Mamta                 \n",
       "7     Hotel Trupti                \n",
       "8     Hotel Malvan                \n",
       "9     Ramdas Hotel                \n",
       "10    Raj Restaurant              \n",
       "Name: name, dtype: object"
      ]
     },
     "execution_count": 46,
     "metadata": {},
     "output_type": "execute_result"
    }
   ],
   "source": [
    "dataframe_filtered.name"
   ]
  },
  {
   "cell_type": "code",
   "execution_count": 47,
   "metadata": {
    "button": false,
    "collapsed": false,
    "deletable": true,
    "new_sheet": false,
    "run_control": {
     "read_only": false
    },
    "scrolled": false
   },
   "outputs": [
    {
     "data": {
      "text/html": [
       "<div style=\"width:100%;\"><div style=\"position:relative;width:100%;height:0;padding-bottom:60%;\"><iframe src=\"data:text/html;charset=utf-8;base64,PCFET0NUWVBFIGh0bWw+CjxoZWFkPiAgICAKICAgIDxtZXRhIGh0dHAtZXF1aXY9ImNvbnRlbnQtdHlwZSIgY29udGVudD0idGV4dC9odG1sOyBjaGFyc2V0PVVURi04IiAvPgogICAgPHNjcmlwdD5MX1BSRUZFUl9DQU5WQVMgPSBmYWxzZTsgTF9OT19UT1VDSCA9IGZhbHNlOyBMX0RJU0FCTEVfM0QgPSBmYWxzZTs8L3NjcmlwdD4KICAgIDxzY3JpcHQgc3JjPSJodHRwczovL2Nkbi5qc2RlbGl2ci5uZXQvbnBtL2xlYWZsZXRAMS4yLjAvZGlzdC9sZWFmbGV0LmpzIj48L3NjcmlwdD4KICAgIDxzY3JpcHQgc3JjPSJodHRwczovL2FqYXguZ29vZ2xlYXBpcy5jb20vYWpheC9saWJzL2pxdWVyeS8xLjExLjEvanF1ZXJ5Lm1pbi5qcyI+PC9zY3JpcHQ+CiAgICA8c2NyaXB0IHNyYz0iaHR0cHM6Ly9tYXhjZG4uYm9vdHN0cmFwY2RuLmNvbS9ib290c3RyYXAvMy4yLjAvanMvYm9vdHN0cmFwLm1pbi5qcyI+PC9zY3JpcHQ+CiAgICA8c2NyaXB0IHNyYz0iaHR0cHM6Ly9jZG5qcy5jbG91ZGZsYXJlLmNvbS9hamF4L2xpYnMvTGVhZmxldC5hd2Vzb21lLW1hcmtlcnMvMi4wLjIvbGVhZmxldC5hd2Vzb21lLW1hcmtlcnMuanMiPjwvc2NyaXB0PgogICAgPGxpbmsgcmVsPSJzdHlsZXNoZWV0IiBocmVmPSJodHRwczovL2Nkbi5qc2RlbGl2ci5uZXQvbnBtL2xlYWZsZXRAMS4yLjAvZGlzdC9sZWFmbGV0LmNzcyIvPgogICAgPGxpbmsgcmVsPSJzdHlsZXNoZWV0IiBocmVmPSJodHRwczovL21heGNkbi5ib290c3RyYXBjZG4uY29tL2Jvb3RzdHJhcC8zLjIuMC9jc3MvYm9vdHN0cmFwLm1pbi5jc3MiLz4KICAgIDxsaW5rIHJlbD0ic3R5bGVzaGVldCIgaHJlZj0iaHR0cHM6Ly9tYXhjZG4uYm9vdHN0cmFwY2RuLmNvbS9ib290c3RyYXAvMy4yLjAvY3NzL2Jvb3RzdHJhcC10aGVtZS5taW4uY3NzIi8+CiAgICA8bGluayByZWw9InN0eWxlc2hlZXQiIGhyZWY9Imh0dHBzOi8vbWF4Y2RuLmJvb3RzdHJhcGNkbi5jb20vZm9udC1hd2Vzb21lLzQuNi4zL2Nzcy9mb250LWF3ZXNvbWUubWluLmNzcyIvPgogICAgPGxpbmsgcmVsPSJzdHlsZXNoZWV0IiBocmVmPSJodHRwczovL2NkbmpzLmNsb3VkZmxhcmUuY29tL2FqYXgvbGlicy9MZWFmbGV0LmF3ZXNvbWUtbWFya2Vycy8yLjAuMi9sZWFmbGV0LmF3ZXNvbWUtbWFya2Vycy5jc3MiLz4KICAgIDxsaW5rIHJlbD0ic3R5bGVzaGVldCIgaHJlZj0iaHR0cHM6Ly9yYXdnaXQuY29tL3B5dGhvbi12aXN1YWxpemF0aW9uL2ZvbGl1bS9tYXN0ZXIvZm9saXVtL3RlbXBsYXRlcy9sZWFmbGV0LmF3ZXNvbWUucm90YXRlLmNzcyIvPgogICAgPHN0eWxlPmh0bWwsIGJvZHkge3dpZHRoOiAxMDAlO2hlaWdodDogMTAwJTttYXJnaW46IDA7cGFkZGluZzogMDt9PC9zdHlsZT4KICAgIDxzdHlsZT4jbWFwIHtwb3NpdGlvbjphYnNvbHV0ZTt0b3A6MDtib3R0b206MDtyaWdodDowO2xlZnQ6MDt9PC9zdHlsZT4KICAgIAogICAgICAgICAgICA8c3R5bGU+ICNtYXBfYjZhM2JkOWZiNDM4NDQwYmFjY2I0MmUwYWJjZmRkNTQgewogICAgICAgICAgICAgICAgcG9zaXRpb24gOiByZWxhdGl2ZTsKICAgICAgICAgICAgICAgIHdpZHRoIDogMTAwLjAlOwogICAgICAgICAgICAgICAgaGVpZ2h0OiAxMDAuMCU7CiAgICAgICAgICAgICAgICBsZWZ0OiAwLjAlOwogICAgICAgICAgICAgICAgdG9wOiAwLjAlOwogICAgICAgICAgICAgICAgfQogICAgICAgICAgICA8L3N0eWxlPgogICAgICAgIAo8L2hlYWQ+Cjxib2R5PiAgICAKICAgIAogICAgICAgICAgICA8ZGl2IGNsYXNzPSJmb2xpdW0tbWFwIiBpZD0ibWFwX2I2YTNiZDlmYjQzODQ0MGJhY2NiNDJlMGFiY2ZkZDU0IiA+PC9kaXY+CiAgICAgICAgCjwvYm9keT4KPHNjcmlwdD4gICAgCiAgICAKCiAgICAgICAgICAgIAogICAgICAgICAgICAgICAgdmFyIGJvdW5kcyA9IG51bGw7CiAgICAgICAgICAgIAoKICAgICAgICAgICAgdmFyIG1hcF9iNmEzYmQ5ZmI0Mzg0NDBiYWNjYjQyZTBhYmNmZGQ1NCA9IEwubWFwKAogICAgICAgICAgICAgICAgICAgICAgICAgICAgICAgICAgJ21hcF9iNmEzYmQ5ZmI0Mzg0NDBiYWNjYjQyZTBhYmNmZGQ1NCcsCiAgICAgICAgICAgICAgICAgICAgICAgICAgICAgICAgICB7Y2VudGVyOiBbMTguNTIwMzA2Miw3My44NTQzMTg1XSwKICAgICAgICAgICAgICAgICAgICAgICAgICAgICAgICAgIHpvb206IDEzLAogICAgICAgICAgICAgICAgICAgICAgICAgICAgICAgICAgbWF4Qm91bmRzOiBib3VuZHMsCiAgICAgICAgICAgICAgICAgICAgICAgICAgICAgICAgICBsYXllcnM6IFtdLAogICAgICAgICAgICAgICAgICAgICAgICAgICAgICAgICAgd29ybGRDb3B5SnVtcDogZmFsc2UsCiAgICAgICAgICAgICAgICAgICAgICAgICAgICAgICAgICBjcnM6IEwuQ1JTLkVQU0czODU3CiAgICAgICAgICAgICAgICAgICAgICAgICAgICAgICAgIH0pOwogICAgICAgICAgICAKICAgICAgICAKICAgIAogICAgICAgICAgICB2YXIgdGlsZV9sYXllcl80NzJjNmQyNWU2YzQ0OGExYTlhZTFkYzc4ZmY1ODA0YyA9IEwudGlsZUxheWVyKAogICAgICAgICAgICAgICAgJ2h0dHBzOi8ve3N9LnRpbGUub3BlbnN0cmVldG1hcC5vcmcve3p9L3t4fS97eX0ucG5nJywKICAgICAgICAgICAgICAgIHsKICAiYXR0cmlidXRpb24iOiBudWxsLAogICJkZXRlY3RSZXRpbmEiOiBmYWxzZSwKICAibWF4Wm9vbSI6IDE4LAogICJtaW5ab29tIjogMSwKICAibm9XcmFwIjogZmFsc2UsCiAgInN1YmRvbWFpbnMiOiAiYWJjIgp9CiAgICAgICAgICAgICAgICApLmFkZFRvKG1hcF9iNmEzYmQ5ZmI0Mzg0NDBiYWNjYjQyZTBhYmNmZGQ1NCk7CiAgICAgICAgCiAgICAKICAgICAgICAgICAgdmFyIGNpcmNsZV9tYXJrZXJfMGE0YTJjYmQ2NjE0NDM3MzlmNmNmYmFiMjk0ZTU4OTAgPSBMLmNpcmNsZU1hcmtlcigKICAgICAgICAgICAgICAgIFsxOC41MjAzMDYyLDczLjg1NDMxODVdLAogICAgICAgICAgICAgICAgewogICJidWJibGluZ01vdXNlRXZlbnRzIjogdHJ1ZSwKICAiY29sb3IiOiAicmVkIiwKICAiZGFzaEFycmF5IjogbnVsbCwKICAiZGFzaE9mZnNldCI6IG51bGwsCiAgImZpbGwiOiB0cnVlLAogICJmaWxsQ29sb3IiOiAicmVkIiwKICAiZmlsbE9wYWNpdHkiOiAwLjYsCiAgImZpbGxSdWxlIjogImV2ZW5vZGQiLAogICJsaW5lQ2FwIjogInJvdW5kIiwKICAibGluZUpvaW4iOiAicm91bmQiLAogICJvcGFjaXR5IjogMS4wLAogICJyYWRpdXMiOiAxMCwKICAic3Ryb2tlIjogdHJ1ZSwKICAid2VpZ2h0IjogMwp9CiAgICAgICAgICAgICAgICApLmFkZFRvKG1hcF9iNmEzYmQ5ZmI0Mzg0NDBiYWNjYjQyZTBhYmNmZGQ1NCk7CiAgICAgICAgICAgIAogICAgCiAgICAgICAgICAgIHZhciBwb3B1cF83MTZmMzhhYjY0N2M0ODg0YTNiNzNjZTllNWFiOWYwZiA9IEwucG9wdXAoe21heFdpZHRoOiAnMzAwJ30pOwoKICAgICAgICAgICAgCiAgICAgICAgICAgICAgICB2YXIgaHRtbF9iZjY3N2NhZDk4ODM0YTExOWU1ODA0NzUyZTFmNmZkNiA9ICQoJzxkaXYgaWQ9Imh0bWxfYmY2NzdjYWQ5ODgzNGExMTllNTgwNDc1MmUxZjZmZDYiIHN0eWxlPSJ3aWR0aDogMTAwLjAlOyBoZWlnaHQ6IDEwMC4wJTsiPkNvbnJhZCBIb3RlbDwvZGl2PicpWzBdOwogICAgICAgICAgICAgICAgcG9wdXBfNzE2ZjM4YWI2NDdjNDg4NGEzYjczY2U5ZTVhYjlmMGYuc2V0Q29udGVudChodG1sX2JmNjc3Y2FkOTg4MzRhMTE5ZTU4MDQ3NTJlMWY2ZmQ2KTsKICAgICAgICAgICAgCgogICAgICAgICAgICBjaXJjbGVfbWFya2VyXzBhNGEyY2JkNjYxNDQzNzM5ZjZjZmJhYjI5NGU1ODkwLmJpbmRQb3B1cChwb3B1cF83MTZmMzhhYjY0N2M0ODg0YTNiNzNjZTllNWFiOWYwZik7CgogICAgICAgICAgICAKICAgICAgICAKICAgIAogICAgICAgICAgICB2YXIgY2lyY2xlX21hcmtlcl85YjBkZDY4MjYwMDE0MjAwYTY1ZjIyODY1ZGI2NjkxNSA9IEwuY2lyY2xlTWFya2VyKAogICAgICAgICAgICAgICAgWzE4LjUxOTk4MjcyMjQ2MzIzLDczLjg1MDA0MzkxNjQ2ODJdLAogICAgICAgICAgICAgICAgewogICJidWJibGluZ01vdXNlRXZlbnRzIjogdHJ1ZSwKICAiY29sb3IiOiAiYmx1ZSIsCiAgImRhc2hBcnJheSI6IG51bGwsCiAgImRhc2hPZmZzZXQiOiBudWxsLAogICJmaWxsIjogdHJ1ZSwKICAiZmlsbENvbG9yIjogImJsdWUiLAogICJmaWxsT3BhY2l0eSI6IDAuNiwKICAiZmlsbFJ1bGUiOiAiZXZlbm9kZCIsCiAgImxpbmVDYXAiOiAicm91bmQiLAogICJsaW5lSm9pbiI6ICJyb3VuZCIsCiAgIm9wYWNpdHkiOiAxLjAsCiAgInJhZGl1cyI6IDUsCiAgInN0cm9rZSI6IHRydWUsCiAgIndlaWdodCI6IDMKfQogICAgICAgICAgICAgICAgKS5hZGRUbyhtYXBfYjZhM2JkOWZiNDM4NDQwYmFjY2I0MmUwYWJjZmRkNTQpOwogICAgICAgICAgICAKICAgIAogICAgICAgICAgICB2YXIgcG9wdXBfZTM2MWM1MTM5NjEyNDZlNGExNjY4NTY2NmExYjY4N2EgPSBMLnBvcHVwKHttYXhXaWR0aDogJzMwMCd9KTsKCiAgICAgICAgICAgIAogICAgICAgICAgICAgICAgdmFyIGh0bWxfZDdjNmNlZDdjZmQzNDM1YmJhZTA3NWE4YzZkMmZjOWIgPSAkKCc8ZGl2IGlkPSJodG1sX2Q3YzZjZWQ3Y2ZkMzQzNWJiYWUwNzVhOGM2ZDJmYzliIiBzdHlsZT0id2lkdGg6IDEwMC4wJTsgaGVpZ2h0OiAxMDAuMCU7Ij5UZWEgUm9vbTwvZGl2PicpWzBdOwogICAgICAgICAgICAgICAgcG9wdXBfZTM2MWM1MTM5NjEyNDZlNGExNjY4NTY2NmExYjY4N2Euc2V0Q29udGVudChodG1sX2Q3YzZjZWQ3Y2ZkMzQzNWJiYWUwNzVhOGM2ZDJmYzliKTsKICAgICAgICAgICAgCgogICAgICAgICAgICBjaXJjbGVfbWFya2VyXzliMGRkNjgyNjAwMTQyMDBhNjVmMjI4NjVkYjY2OTE1LmJpbmRQb3B1cChwb3B1cF9lMzYxYzUxMzk2MTI0NmU0YTE2Njg1NjY2YTFiNjg3YSk7CgogICAgICAgICAgICAKICAgICAgICAKICAgIAogICAgICAgICAgICB2YXIgY2lyY2xlX21hcmtlcl82OThjYTcyOWU4ODU0MDI5OTNlYzRjMDhmYWE4NjJlNSA9IEwuY2lyY2xlTWFya2VyKAogICAgICAgICAgICAgICAgWzE4LjUyMDE0ODY2NTM4Nzg3NSw3My44NTYxNjM1ODQyOTg5OF0sCiAgICAgICAgICAgICAgICB7CiAgImJ1YmJsaW5nTW91c2VFdmVudHMiOiB0cnVlLAogICJjb2xvciI6ICJibHVlIiwKICAiZGFzaEFycmF5IjogbnVsbCwKICAiZGFzaE9mZnNldCI6IG51bGwsCiAgImZpbGwiOiB0cnVlLAogICJmaWxsQ29sb3IiOiAiYmx1ZSIsCiAgImZpbGxPcGFjaXR5IjogMC42LAogICJmaWxsUnVsZSI6ICJldmVub2RkIiwKICAibGluZUNhcCI6ICJyb3VuZCIsCiAgImxpbmVKb2luIjogInJvdW5kIiwKICAib3BhY2l0eSI6IDEuMCwKICAicmFkaXVzIjogNSwKICAic3Ryb2tlIjogdHJ1ZSwKICAid2VpZ2h0IjogMwp9CiAgICAgICAgICAgICAgICApLmFkZFRvKG1hcF9iNmEzYmQ5ZmI0Mzg0NDBiYWNjYjQyZTBhYmNmZGQ1NCk7CiAgICAgICAgICAgIAogICAgCiAgICAgICAgICAgIHZhciBjaXJjbGVfbWFya2VyXzJjYTk1ZjBjNmNkZTQ1NjdhNDQwMTAwZGRmM2Q4YzI1ID0gTC5jaXJjbGVNYXJrZXIoCiAgICAgICAgICAgICAgICBbMTguNTIwNDMwMyw3My44NTY3NDM3XSwKICAgICAgICAgICAgICAgIHsKICAiYnViYmxpbmdNb3VzZUV2ZW50cyI6IHRydWUsCiAgImNvbG9yIjogImJsdWUiLAogICJkYXNoQXJyYXkiOiBudWxsLAogICJkYXNoT2Zmc2V0IjogbnVsbCwKICAiZmlsbCI6IHRydWUsCiAgImZpbGxDb2xvciI6ICJibHVlIiwKICAiZmlsbE9wYWNpdHkiOiAwLjYsCiAgImZpbGxSdWxlIjogImV2ZW5vZGQiLAogICJsaW5lQ2FwIjogInJvdW5kIiwKICAibGluZUpvaW4iOiAicm91bmQiLAogICJvcGFjaXR5IjogMS4wLAogICJyYWRpdXMiOiA1LAogICJzdHJva2UiOiB0cnVlLAogICJ3ZWlnaHQiOiAzCn0KICAgICAgICAgICAgICAgICkuYWRkVG8obWFwX2I2YTNiZDlmYjQzODQ0MGJhY2NiNDJlMGFiY2ZkZDU0KTsKICAgICAgICAgICAgCiAgICAKICAgICAgICAgICAgdmFyIHBvcHVwXzU5MTAwNzYzYzMyMjQwMjA5YTE4ZGQ5MWNlYzZjMjMwID0gTC5wb3B1cCh7bWF4V2lkdGg6ICczMDAnfSk7CgogICAgICAgICAgICAKICAgICAgICAgICAgICAgIHZhciBodG1sX2U3MGNlNDFjZTM1NTQ1NDE4NzE1YWFmOGUxYWJiZmJlID0gJCgnPGRpdiBpZD0iaHRtbF9lNzBjZTQxY2UzNTU0NTQxODcxNWFhZjhlMWFiYmZiZSIgc3R5bGU9IndpZHRoOiAxMDAuMCU7IGhlaWdodDogMTAwLjAlOyI+U21va2UgU2hvcDwvZGl2PicpWzBdOwogICAgICAgICAgICAgICAgcG9wdXBfNTkxMDA3NjNjMzIyNDAyMDlhMThkZDkxY2VjNmMyMzAuc2V0Q29udGVudChodG1sX2U3MGNlNDFjZTM1NTQ1NDE4NzE1YWFmOGUxYWJiZmJlKTsKICAgICAgICAgICAgCgogICAgICAgICAgICBjaXJjbGVfbWFya2VyXzJjYTk1ZjBjNmNkZTQ1NjdhNDQwMTAwZGRmM2Q4YzI1LmJpbmRQb3B1cChwb3B1cF81OTEwMDc2M2MzMjI0MDIwOWExOGRkOTFjZWM2YzIzMCk7CgogICAgICAgICAgICAKICAgICAgICAKICAgIAogICAgICAgICAgICB2YXIgY2lyY2xlX21hcmtlcl8zYWZkMjZmMmViZTE0NzhhODIzNTdjMDMzNWQ4MjUxMyA9IEwuY2lyY2xlTWFya2VyKAogICAgICAgICAgICAgICAgWzE4LjUyMDQzMDMsNzMuODU2NzQzN10sCiAgICAgICAgICAgICAgICB7CiAgImJ1YmJsaW5nTW91c2VFdmVudHMiOiB0cnVlLAogICJjb2xvciI6ICJibHVlIiwKICAiZGFzaEFycmF5IjogbnVsbCwKICAiZGFzaE9mZnNldCI6IG51bGwsCiAgImZpbGwiOiB0cnVlLAogICJmaWxsQ29sb3IiOiAiYmx1ZSIsCiAgImZpbGxPcGFjaXR5IjogMC42LAogICJmaWxsUnVsZSI6ICJldmVub2RkIiwKICAibGluZUNhcCI6ICJyb3VuZCIsCiAgImxpbmVKb2luIjogInJvdW5kIiwKICAib3BhY2l0eSI6IDEuMCwKICAicmFkaXVzIjogNSwKICAic3Ryb2tlIjogdHJ1ZSwKICAid2VpZ2h0IjogMwp9CiAgICAgICAgICAgICAgICApLmFkZFRvKG1hcF9iNmEzYmQ5ZmI0Mzg0NDBiYWNjYjQyZTBhYmNmZGQ1NCk7CiAgICAgICAgICAgIAogICAgCiAgICAgICAgICAgIHZhciBwb3B1cF8yNDkxY2FlOTA5NDY0MGVlYjRlZjA4YTMwYjJhZjJlOCA9IEwucG9wdXAoe21heFdpZHRoOiAnMzAwJ30pOwoKICAgICAgICAgICAgCiAgICAgICAgICAgICAgICB2YXIgaHRtbF9mZTAzNjY0ZDc2ZWE0YzYzODY3YmUxMDBjZTRlZGEwNSA9ICQoJzxkaXYgaWQ9Imh0bWxfZmUwMzY2NGQ3NmVhNGM2Mzg2N2JlMTAwY2U0ZWRhMDUiIHN0eWxlPSJ3aWR0aDogMTAwLjAlOyBoZWlnaHQ6IDEwMC4wJTsiPlNlYWZvb2QgUmVzdGF1cmFudDwvZGl2PicpWzBdOwogICAgICAgICAgICAgICAgcG9wdXBfMjQ5MWNhZTkwOTQ2NDBlZWI0ZWYwOGEzMGIyYWYyZTguc2V0Q29udGVudChodG1sX2ZlMDM2NjRkNzZlYTRjNjM4NjdiZTEwMGNlNGVkYTA1KTsKICAgICAgICAgICAgCgogICAgICAgICAgICBjaXJjbGVfbWFya2VyXzNhZmQyNmYyZWJlMTQ3OGE4MjM1N2MwMzM1ZDgyNTEzLmJpbmRQb3B1cChwb3B1cF8yNDkxY2FlOTA5NDY0MGVlYjRlZjA4YTMwYjJhZjJlOCk7CgogICAgICAgICAgICAKICAgICAgICAKICAgIAogICAgICAgICAgICB2YXIgY2lyY2xlX21hcmtlcl82ZjY4OWVmYmIyMWU0ZWVjYWQ0ZTQyOTBlZWEzZmVhZiA9IEwuY2lyY2xlTWFya2VyKAogICAgICAgICAgICAgICAgWzE4LjUxNzgwOTUwNDYxMzczNCw3My44NTM5ODEyNzM1MjczNV0sCiAgICAgICAgICAgICAgICB7CiAgImJ1YmJsaW5nTW91c2VFdmVudHMiOiB0cnVlLAogICJjb2xvciI6ICJibHVlIiwKICAiZGFzaEFycmF5IjogbnVsbCwKICAiZGFzaE9mZnNldCI6IG51bGwsCiAgImZpbGwiOiB0cnVlLAogICJmaWxsQ29sb3IiOiAiYmx1ZSIsCiAgImZpbGxPcGFjaXR5IjogMC42LAogICJmaWxsUnVsZSI6ICJldmVub2RkIiwKICAibGluZUNhcCI6ICJyb3VuZCIsCiAgImxpbmVKb2luIjogInJvdW5kIiwKICAib3BhY2l0eSI6IDEuMCwKICAicmFkaXVzIjogNSwKICAic3Ryb2tlIjogdHJ1ZSwKICAid2VpZ2h0IjogMwp9CiAgICAgICAgICAgICAgICApLmFkZFRvKG1hcF9iNmEzYmQ5ZmI0Mzg0NDBiYWNjYjQyZTBhYmNmZGQ1NCk7CiAgICAgICAgICAgIAogICAgCiAgICAgICAgICAgIHZhciBwb3B1cF80NTZkNWVlMWM1ZDM0MTZlYTgxYmM4MjBhOWMxYzdhNyA9IEwucG9wdXAoe21heFdpZHRoOiAnMzAwJ30pOwoKICAgICAgICAgICAgCiAgICAgICAgICAgICAgICB2YXIgaHRtbF84NTQzODZhNzQwZGQ0NzdkYjBhMDVkYjAxZjE3MjNmOSA9ICQoJzxkaXYgaWQ9Imh0bWxfODU0Mzg2YTc0MGRkNDc3ZGIwYTA1ZGIwMWYxNzIzZjkiIHN0eWxlPSJ3aWR0aDogMTAwLjAlOyBoZWlnaHQ6IDEwMC4wJTsiPkhvdGVsPC9kaXY+JylbMF07CiAgICAgICAgICAgICAgICBwb3B1cF80NTZkNWVlMWM1ZDM0MTZlYTgxYmM4MjBhOWMxYzdhNy5zZXRDb250ZW50KGh0bWxfODU0Mzg2YTc0MGRkNDc3ZGIwYTA1ZGIwMWYxNzIzZjkpOwogICAgICAgICAgICAKCiAgICAgICAgICAgIGNpcmNsZV9tYXJrZXJfNmY2ODllZmJiMjFlNGVlY2FkNGU0MjkwZWVhM2ZlYWYuYmluZFBvcHVwKHBvcHVwXzQ1NmQ1ZWUxYzVkMzQxNmVhODFiYzgyMGE5YzFjN2E3KTsKCiAgICAgICAgICAgIAogICAgICAgIAogICAgCiAgICAgICAgICAgIHZhciBjaXJjbGVfbWFya2VyX2FhMmNlYTQ1ZTNlYjRkZTVhMTE1MDRmMGRmMjViZDg2ID0gTC5jaXJjbGVNYXJrZXIoCiAgICAgICAgICAgICAgICBbMTguNTE4MDAyNDkzNTk2Niw3My44NTAwMDEzNjU1NDc2OF0sCiAgICAgICAgICAgICAgICB7CiAgImJ1YmJsaW5nTW91c2VFdmVudHMiOiB0cnVlLAogICJjb2xvciI6ICJibHVlIiwKICAiZGFzaEFycmF5IjogbnVsbCwKICAiZGFzaE9mZnNldCI6IG51bGwsCiAgImZpbGwiOiB0cnVlLAogICJmaWxsQ29sb3IiOiAiYmx1ZSIsCiAgImZpbGxPcGFjaXR5IjogMC42LAogICJmaWxsUnVsZSI6ICJldmVub2RkIiwKICAibGluZUNhcCI6ICJyb3VuZCIsCiAgImxpbmVKb2luIjogInJvdW5kIiwKICAib3BhY2l0eSI6IDEuMCwKICAicmFkaXVzIjogNSwKICAic3Ryb2tlIjogdHJ1ZSwKICAid2VpZ2h0IjogMwp9CiAgICAgICAgICAgICAgICApLmFkZFRvKG1hcF9iNmEzYmQ5ZmI0Mzg0NDBiYWNjYjQyZTBhYmNmZGQ1NCk7CiAgICAgICAgICAgIAogICAgCiAgICAgICAgICAgIHZhciBwb3B1cF8wNWQ4YzZkMjMxNGU0NjJkYjFiZjllZDRjYjE3ZTIxNiA9IEwucG9wdXAoe21heFdpZHRoOiAnMzAwJ30pOwoKICAgICAgICAgICAgCiAgICAgICAgICAgICAgICB2YXIgaHRtbF83NGE4MjU5NmJkMDk0YzhkODZiOWM4N2E1NDNlMTJiOSA9ICQoJzxkaXYgaWQ9Imh0bWxfNzRhODI1OTZiZDA5NGM4ZDg2YjljODdhNTQzZTEyYjkiIHN0eWxlPSJ3aWR0aDogMTAwLjAlOyBoZWlnaHQ6IDEwMC4wJTsiPlJlc3RhdXJhbnQ8L2Rpdj4nKVswXTsKICAgICAgICAgICAgICAgIHBvcHVwXzA1ZDhjNmQyMzE0ZTQ2MmRiMWJmOWVkNGNiMTdlMjE2LnNldENvbnRlbnQoaHRtbF83NGE4MjU5NmJkMDk0YzhkODZiOWM4N2E1NDNlMTJiOSk7CiAgICAgICAgICAgIAoKICAgICAgICAgICAgY2lyY2xlX21hcmtlcl9hYTJjZWE0NWUzZWI0ZGU1YTExNTA0ZjBkZjI1YmQ4Ni5iaW5kUG9wdXAocG9wdXBfMDVkOGM2ZDIzMTRlNDYyZGIxYmY5ZWQ0Y2IxN2UyMTYpOwoKICAgICAgICAgICAgCiAgICAgICAgCiAgICAKICAgICAgICAgICAgdmFyIGNpcmNsZV9tYXJrZXJfNjMxZWUzNmRkZGFiNDAwNWFmNWE0MTkyODYwNWIwNzEgPSBMLmNpcmNsZU1hcmtlcigKICAgICAgICAgICAgICAgIFsxOC41MjM3Njg3MDY3MTEwOCw3My44NTUxNjQzMTg2ODU3Ml0sCiAgICAgICAgICAgICAgICB7CiAgImJ1YmJsaW5nTW91c2VFdmVudHMiOiB0cnVlLAogICJjb2xvciI6ICJibHVlIiwKICAiZGFzaEFycmF5IjogbnVsbCwKICAiZGFzaE9mZnNldCI6IG51bGwsCiAgImZpbGwiOiB0cnVlLAogICJmaWxsQ29sb3IiOiAiYmx1ZSIsCiAgImZpbGxPcGFjaXR5IjogMC42LAogICJmaWxsUnVsZSI6ICJldmVub2RkIiwKICAibGluZUNhcCI6ICJyb3VuZCIsCiAgImxpbmVKb2luIjogInJvdW5kIiwKICAib3BhY2l0eSI6IDEuMCwKICAicmFkaXVzIjogNSwKICAic3Ryb2tlIjogdHJ1ZSwKICAid2VpZ2h0IjogMwp9CiAgICAgICAgICAgICAgICApLmFkZFRvKG1hcF9iNmEzYmQ5ZmI0Mzg0NDBiYWNjYjQyZTBhYmNmZGQ1NCk7CiAgICAgICAgICAgIAogICAgCiAgICAgICAgICAgIHZhciBwb3B1cF8yNzIzOGZmNzA1NTc0OGJjYjFjZWQ5YmQ0YmVmNGI3ZSA9IEwucG9wdXAoe21heFdpZHRoOiAnMzAwJ30pOwoKICAgICAgICAgICAgCiAgICAgICAgICAgICAgICB2YXIgaHRtbF83MTliMTljM2JmODE0NWU5OTQwOWRiYzBmN2U1ZjllNiA9ICQoJzxkaXYgaWQ9Imh0bWxfNzE5YjE5YzNiZjgxNDVlOTk0MDlkYmMwZjdlNWY5ZTYiIHN0eWxlPSJ3aWR0aDogMTAwLjAlOyBoZWlnaHQ6IDEwMC4wJTsiPkluZGlhbiBSZXN0YXVyYW50PC9kaXY+JylbMF07CiAgICAgICAgICAgICAgICBwb3B1cF8yNzIzOGZmNzA1NTc0OGJjYjFjZWQ5YmQ0YmVmNGI3ZS5zZXRDb250ZW50KGh0bWxfNzE5YjE5YzNiZjgxNDVlOTk0MDlkYmMwZjdlNWY5ZTYpOwogICAgICAgICAgICAKCiAgICAgICAgICAgIGNpcmNsZV9tYXJrZXJfNjMxZWUzNmRkZGFiNDAwNWFmNWE0MTkyODYwNWIwNzEuYmluZFBvcHVwKHBvcHVwXzI3MjM4ZmY3MDU1NzQ4YmNiMWNlZDliZDRiZWY0YjdlKTsKCiAgICAgICAgICAgIAogICAgICAgIAogICAgCiAgICAgICAgICAgIHZhciBjaXJjbGVfbWFya2VyXzQwNDk3MzU2ODc1MTRmYzBiYzhkYmMzZGFiYTUwOWNkID0gTC5jaXJjbGVNYXJrZXIoCiAgICAgICAgICAgICAgICBbMTguNTE2NDMyMjg4MjE5NjIsNzMuODUxNzk4OTM4NTYzMjNdLAogICAgICAgICAgICAgICAgewogICJidWJibGluZ01vdXNlRXZlbnRzIjogdHJ1ZSwKICAiY29sb3IiOiAiYmx1ZSIsCiAgImRhc2hBcnJheSI6IG51bGwsCiAgImRhc2hPZmZzZXQiOiBudWxsLAogICJmaWxsIjogdHJ1ZSwKICAiZmlsbENvbG9yIjogImJsdWUiLAogICJmaWxsT3BhY2l0eSI6IDAuNiwKICAiZmlsbFJ1bGUiOiAiZXZlbm9kZCIsCiAgImxpbmVDYXAiOiAicm91bmQiLAogICJsaW5lSm9pbiI6ICJyb3VuZCIsCiAgIm9wYWNpdHkiOiAxLjAsCiAgInJhZGl1cyI6IDUsCiAgInN0cm9rZSI6IHRydWUsCiAgIndlaWdodCI6IDMKfQogICAgICAgICAgICAgICAgKS5hZGRUbyhtYXBfYjZhM2JkOWZiNDM4NDQwYmFjY2I0MmUwYWJjZmRkNTQpOwogICAgICAgICAgICAKICAgIAogICAgICAgICAgICB2YXIgcG9wdXBfYmNlMzNiYzM0MmQ3NDZhZWJmMTc3MDI2Njk4NDYxODQgPSBMLnBvcHVwKHttYXhXaWR0aDogJzMwMCd9KTsKCiAgICAgICAgICAgIAogICAgICAgICAgICAgICAgdmFyIGh0bWxfOTViYzFmNGU5Yjg0NDdmMjg4ZDcyYzNjMGUzMTI0NGEgPSAkKCc8ZGl2IGlkPSJodG1sXzk1YmMxZjRlOWI4NDQ3ZjI4OGQ3MmMzYzBlMzEyNDRhIiBzdHlsZT0id2lkdGg6IDEwMC4wJTsgaGVpZ2h0OiAxMDAuMCU7Ij5JbmRpYW4gUmVzdGF1cmFudDwvZGl2PicpWzBdOwogICAgICAgICAgICAgICAgcG9wdXBfYmNlMzNiYzM0MmQ3NDZhZWJmMTc3MDI2Njk4NDYxODQuc2V0Q29udGVudChodG1sXzk1YmMxZjRlOWI4NDQ3ZjI4OGQ3MmMzYzBlMzEyNDRhKTsKICAgICAgICAgICAgCgogICAgICAgICAgICBjaXJjbGVfbWFya2VyXzQwNDk3MzU2ODc1MTRmYzBiYzhkYmMzZGFiYTUwOWNkLmJpbmRQb3B1cChwb3B1cF9iY2UzM2JjMzQyZDc0NmFlYmYxNzcwMjY2OTg0NjE4NCk7CgogICAgICAgICAgICAKICAgICAgICAKICAgIAogICAgICAgICAgICB2YXIgY2lyY2xlX21hcmtlcl9mYzZmMGY1Y2RmYzg0M2JiOTliZTJjZTc5MmRjZTZmOCA9IEwuY2lyY2xlTWFya2VyKAogICAgICAgICAgICAgICAgWzE4LjUxNjMxMiw3My44NTE1NV0sCiAgICAgICAgICAgICAgICB7CiAgImJ1YmJsaW5nTW91c2VFdmVudHMiOiB0cnVlLAogICJjb2xvciI6ICJibHVlIiwKICAiZGFzaEFycmF5IjogbnVsbCwKICAiZGFzaE9mZnNldCI6IG51bGwsCiAgImZpbGwiOiB0cnVlLAogICJmaWxsQ29sb3IiOiAiYmx1ZSIsCiAgImZpbGxPcGFjaXR5IjogMC42LAogICJmaWxsUnVsZSI6ICJldmVub2RkIiwKICAibGluZUNhcCI6ICJyb3VuZCIsCiAgImxpbmVKb2luIjogInJvdW5kIiwKICAib3BhY2l0eSI6IDEuMCwKICAicmFkaXVzIjogNSwKICAic3Ryb2tlIjogdHJ1ZSwKICAid2VpZ2h0IjogMwp9CiAgICAgICAgICAgICAgICApLmFkZFRvKG1hcF9iNmEzYmQ5ZmI0Mzg0NDBiYWNjYjQyZTBhYmNmZGQ1NCk7CiAgICAgICAgICAgIAogICAgCiAgICAgICAgICAgIHZhciBwb3B1cF9iMmE0ODNlNzAyNmY0YWE0YWEwMjQ0OTdkN2RjYWZkMCA9IEwucG9wdXAoe21heFdpZHRoOiAnMzAwJ30pOwoKICAgICAgICAgICAgCiAgICAgICAgICAgICAgICB2YXIgaHRtbF80NmRjMmYxMGY3OTQ0MmQyYmNmNWMxZmQwYWFlZWY4ZCA9ICQoJzxkaXYgaWQ9Imh0bWxfNDZkYzJmMTBmNzk0NDJkMmJjZjVjMWZkMGFhZWVmOGQiIHN0eWxlPSJ3aWR0aDogMTAwLjAlOyBoZWlnaHQ6IDEwMC4wJTsiPlNlYWZvb2QgUmVzdGF1cmFudDwvZGl2PicpWzBdOwogICAgICAgICAgICAgICAgcG9wdXBfYjJhNDgzZTcwMjZmNGFhNGFhMDI0NDk3ZDdkY2FmZDAuc2V0Q29udGVudChodG1sXzQ2ZGMyZjEwZjc5NDQyZDJiY2Y1YzFmZDBhYWVlZjhkKTsKICAgICAgICAgICAgCgogICAgICAgICAgICBjaXJjbGVfbWFya2VyX2ZjNmYwZjVjZGZjODQzYmI5OWJlMmNlNzkyZGNlNmY4LmJpbmRQb3B1cChwb3B1cF9iMmE0ODNlNzAyNmY0YWE0YWEwMjQ0OTdkN2RjYWZkMCk7CgogICAgICAgICAgICAKICAgICAgICAKICAgIAogICAgICAgICAgICB2YXIgY2lyY2xlX21hcmtlcl85YzhkMTQ4NjVhNTE0OGI2OWZjZTRlOThlZTY3YWNhYyA9IEwuY2lyY2xlTWFya2VyKAogICAgICAgICAgICAgICAgWzE4LjUyMjEzMDA4MDMwNzI3LDczLjg1MjQzNjQxMjU5MjkyXSwKICAgICAgICAgICAgICAgIHsKICAiYnViYmxpbmdNb3VzZUV2ZW50cyI6IHRydWUsCiAgImNvbG9yIjogImJsdWUiLAogICJkYXNoQXJyYXkiOiBudWxsLAogICJkYXNoT2Zmc2V0IjogbnVsbCwKICAiZmlsbCI6IHRydWUsCiAgImZpbGxDb2xvciI6ICJibHVlIiwKICAiZmlsbE9wYWNpdHkiOiAwLjYsCiAgImZpbGxSdWxlIjogImV2ZW5vZGQiLAogICJsaW5lQ2FwIjogInJvdW5kIiwKICAibGluZUpvaW4iOiAicm91bmQiLAogICJvcGFjaXR5IjogMS4wLAogICJyYWRpdXMiOiA1LAogICJzdHJva2UiOiB0cnVlLAogICJ3ZWlnaHQiOiAzCn0KICAgICAgICAgICAgICAgICkuYWRkVG8obWFwX2I2YTNiZDlmYjQzODQ0MGJhY2NiNDJlMGFiY2ZkZDU0KTsKICAgICAgICAgICAgCiAgICAKICAgICAgICAgICAgdmFyIHBvcHVwX2RiZDc5ZmEwODQ3MjQwZjJhNGU4NjBjOGI2OTkyYmJlID0gTC5wb3B1cCh7bWF4V2lkdGg6ICczMDAnfSk7CgogICAgICAgICAgICAKICAgICAgICAgICAgICAgIHZhciBodG1sXzQ3OWU0NzZmZjZjNjQ4YTM4ODZiYTliMTU2OGU4ZDYwID0gJCgnPGRpdiBpZD0iaHRtbF80NzllNDc2ZmY2YzY0OGEzODg2YmE5YjE1NjhlOGQ2MCIgc3R5bGU9IndpZHRoOiAxMDAuMCU7IGhlaWdodDogMTAwLjAlOyI+SW5kaWFuIFJlc3RhdXJhbnQ8L2Rpdj4nKVswXTsKICAgICAgICAgICAgICAgIHBvcHVwX2RiZDc5ZmEwODQ3MjQwZjJhNGU4NjBjOGI2OTkyYmJlLnNldENvbnRlbnQoaHRtbF80NzllNDc2ZmY2YzY0OGEzODg2YmE5YjE1NjhlOGQ2MCk7CiAgICAgICAgICAgIAoKICAgICAgICAgICAgY2lyY2xlX21hcmtlcl85YzhkMTQ4NjVhNTE0OGI2OWZjZTRlOThlZTY3YWNhYy5iaW5kUG9wdXAocG9wdXBfZGJkNzlmYTA4NDcyNDBmMmE0ZTg2MGM4YjY5OTJiYmUpOwoKICAgICAgICAgICAgCiAgICAgICAgCiAgICAKICAgICAgICAgICAgdmFyIGNpcmNsZV9tYXJrZXJfYWY2MGRjNDc5ZTI3NDU2YzhkYjA3Y2NiYjUwY2VkZTkgPSBMLmNpcmNsZU1hcmtlcigKICAgICAgICAgICAgICAgIFsxOC41MjAwOTY1MjMxNTcxMDgsNzMuODUwMjQyNTc0MzgxMjZdLAogICAgICAgICAgICAgICAgewogICJidWJibGluZ01vdXNlRXZlbnRzIjogdHJ1ZSwKICAiY29sb3IiOiAiYmx1ZSIsCiAgImRhc2hBcnJheSI6IG51bGwsCiAgImRhc2hPZmZzZXQiOiBudWxsLAogICJmaWxsIjogdHJ1ZSwKICAiZmlsbENvbG9yIjogImJsdWUiLAogICJmaWxsT3BhY2l0eSI6IDAuNiwKICAiZmlsbFJ1bGUiOiAiZXZlbm9kZCIsCiAgImxpbmVDYXAiOiAicm91bmQiLAogICJsaW5lSm9pbiI6ICJyb3VuZCIsCiAgIm9wYWNpdHkiOiAxLjAsCiAgInJhZGl1cyI6IDUsCiAgInN0cm9rZSI6IHRydWUsCiAgIndlaWdodCI6IDMKfQogICAgICAgICAgICAgICAgKS5hZGRUbyhtYXBfYjZhM2JkOWZiNDM4NDQwYmFjY2I0MmUwYWJjZmRkNTQpOwogICAgICAgICAgICAKICAgIAogICAgICAgICAgICB2YXIgcG9wdXBfZDM3NWNmY2Y0MDUxNGE2MWI1YjFjNWVlOTVjMWNjZGMgPSBMLnBvcHVwKHttYXhXaWR0aDogJzMwMCd9KTsKCiAgICAgICAgICAgIAogICAgICAgICAgICAgICAgdmFyIGh0bWxfODAwMWQyMWE0YTUwNDA4NGE5NDQ2MmM3OTllMDA1NzkgPSAkKCc8ZGl2IGlkPSJodG1sXzgwMDFkMjFhNGE1MDQwODRhOTQ0NjJjNzk5ZTAwNTc5IiBzdHlsZT0id2lkdGg6IDEwMC4wJTsgaGVpZ2h0OiAxMDAuMCU7Ij5JbmRpYW4gUmVzdGF1cmFudDwvZGl2PicpWzBdOwogICAgICAgICAgICAgICAgcG9wdXBfZDM3NWNmY2Y0MDUxNGE2MWI1YjFjNWVlOTVjMWNjZGMuc2V0Q29udGVudChodG1sXzgwMDFkMjFhNGE1MDQwODRhOTQ0NjJjNzk5ZTAwNTc5KTsKICAgICAgICAgICAgCgogICAgICAgICAgICBjaXJjbGVfbWFya2VyX2FmNjBkYzQ3OWUyNzQ1NmM4ZGIwN2NjYmI1MGNlZGU5LmJpbmRQb3B1cChwb3B1cF9kMzc1Y2ZjZjQwNTE0YTYxYjViMWM1ZWU5NWMxY2NkYyk7CgogICAgICAgICAgICAKICAgICAgICAKPC9zY3JpcHQ+\" style=\"position:absolute;width:100%;height:100%;left:0;top:0;border:none !important;\" allowfullscreen webkitallowfullscreen mozallowfullscreen></iframe></div></div>"
      ],
      "text/plain": [
       "<folium.folium.Map at 0x7fd7e0c92cf8>"
      ]
     },
     "execution_count": 47,
     "metadata": {},
     "output_type": "execute_result"
    }
   ],
   "source": [
    "venues_map = folium.Map(location=[latitude, longitude], zoom_start=13) # generate map centred around the Conrad Hotel\n",
    "\n",
    "# add a red circle marker to represent the Conrad Hotel\n",
    "folium.features.CircleMarker(\n",
    "    [latitude, longitude],\n",
    "    radius=10,\n",
    "    color='red',\n",
    "    popup='Conrad Hotel',\n",
    "    fill = True,\n",
    "    fill_color = 'red',\n",
    "    fill_opacity = 0.6\n",
    ").add_to(venues_map)\n",
    "\n",
    "# add the Italian restaurants as blue circle markers\n",
    "for lat, lng, label in zip(dataframe_filtered.lat, dataframe_filtered.lng, dataframe_filtered.categories):\n",
    "    folium.features.CircleMarker(\n",
    "        [lat, lng],\n",
    "        radius=5,\n",
    "        color='blue',\n",
    "        popup=label,\n",
    "        fill = True,\n",
    "        fill_color='blue',\n",
    "        fill_opacity=0.6\n",
    "    ).add_to(venues_map)\n",
    "\n",
    "# display map\n",
    "venues_map"
   ]
  },
  {
   "cell_type": "markdown",
   "metadata": {
    "button": false,
    "deletable": true,
    "new_sheet": false,
    "run_control": {
     "read_only": false
    }
   },
   "source": [
    "   "
   ]
  },
  {
   "cell_type": "markdown",
   "metadata": {
    "button": false,
    "deletable": true,
    "new_sheet": false,
    "run_control": {
     "read_only": false
    }
   },
   "source": [
    "<a id=\"item2\"></a>"
   ]
  },
  {
   "cell_type": "markdown",
   "metadata": {
    "button": false,
    "deletable": true,
    "new_sheet": false,
    "run_control": {
     "read_only": false
    }
   },
   "source": [
    "## 2. Explore a Given Venue\n",
    "> `https://api.foursquare.com/v2/venues/`**VENUE_ID**`?client_id=`**CLIENT_ID**`&client_secret=`**CLIENT_SECRET**`&v=`**VERSION**"
   ]
  },
  {
   "cell_type": "markdown",
   "metadata": {
    "button": false,
    "deletable": true,
    "new_sheet": false,
    "run_control": {
     "read_only": false
    }
   },
   "source": [
    "### A. Let's explore the closest Hotel -- Hotel Hari om"
   ]
  },
  {
   "cell_type": "code",
   "execution_count": 52,
   "metadata": {
    "button": false,
    "collapsed": false,
    "deletable": true,
    "new_sheet": false,
    "run_control": {
     "read_only": false
    }
   },
   "outputs": [
    {
     "data": {
      "text/plain": [
       "'https://api.foursquare.com/v2/venues/4ea229169adff634398e4d82?client_id=MLXEW5RUTUP5I3VULF5NK2OC50MGMZGAPTXUQDJKLJVGJ4DS&client_secret=CXUFS15FNKQF2XUSYJYC0IVQPEZP2541SRPHCASOIBKJXRBO&v=20180604'"
      ]
     },
     "execution_count": 52,
     "metadata": {},
     "output_type": "execute_result"
    }
   ],
   "source": [
    "venue_id = '4ea229169adff634398e4d82' # ID of Hotel Hari on\n",
    "url = 'https://api.foursquare.com/v2/venues/{}?client_id={}&client_secret={}&v={}'.format(venue_id, CLIENT_ID, CLIENT_SECRET, VERSION)\n",
    "url"
   ]
  },
  {
   "cell_type": "markdown",
   "metadata": {
    "button": false,
    "deletable": true,
    "new_sheet": false,
    "run_control": {
     "read_only": false
    }
   },
   "source": [
    "#### Send GET request for result"
   ]
  },
  {
   "cell_type": "code",
   "execution_count": 53,
   "metadata": {
    "button": false,
    "collapsed": false,
    "deletable": true,
    "new_sheet": false,
    "run_control": {
     "read_only": false
    }
   },
   "outputs": [
    {
     "name": "stdout",
     "output_type": "stream",
     "text": [
      "dict_keys(['id', 'name', 'contact', 'location', 'canonicalUrl', 'categories', 'verified', 'stats', 'price', 'likes', 'dislike', 'ok', 'allowMenuUrlEdit', 'beenHere', 'specials', 'photos', 'reasons', 'hereNow', 'createdAt', 'tips', 'shortUrl', 'timeZone', 'listed', 'popular', 'pageUpdates', 'inbox', 'attributes', 'bestPhoto'])\n"
     ]
    },
    {
     "data": {
      "text/plain": [
       "{'id': '4ea229169adff634398e4d82',\n",
       " 'name': 'Hotel HariOm',\n",
       " 'contact': {},\n",
       " 'location': {'lat': 18.51998272246323,\n",
       "  'lng': 73.8500439164682,\n",
       "  'labeledLatLngs': [{'label': 'display',\n",
       "    'lat': 18.51998272246323,\n",
       "    'lng': 73.8500439164682}],\n",
       "  'cc': 'IN',\n",
       "  'country': 'India',\n",
       "  'formattedAddress': ['India']},\n",
       " 'canonicalUrl': 'https://foursquare.com/v/hotel-hariom/4ea229169adff634398e4d82',\n",
       " 'categories': [{'id': '4bf58dd8d48988d1dc931735',\n",
       "   'name': 'Tea Room',\n",
       "   'pluralName': 'Tea Rooms',\n",
       "   'shortName': 'Tea Room',\n",
       "   'icon': {'prefix': 'https://ss3.4sqi.net/img/categories_v2/food/tearoom_',\n",
       "    'suffix': '.png'},\n",
       "   'primary': True}],\n",
       " 'verified': False,\n",
       " 'stats': {'tipCount': 4},\n",
       " 'price': {'tier': 2, 'message': 'Moderate', 'currency': '₹'},\n",
       " 'likes': {'count': 1,\n",
       "  'groups': [{'type': 'others',\n",
       "    'count': 1,\n",
       "    'items': [{'id': '26057748',\n",
       "      'firstName': 'Mahesh',\n",
       "      'lastName': 'Waghmare',\n",
       "      'gender': 'male',\n",
       "      'photo': {'prefix': 'https://fastly.4sqi.net/img/user/',\n",
       "       'suffix': '/26057748-UD5WTZ1XOQN2EPFF.jpg'}}]}],\n",
       "  'summary': '1 Like'},\n",
       " 'dislike': False,\n",
       " 'ok': False,\n",
       " 'allowMenuUrlEdit': True,\n",
       " 'beenHere': {'count': 0,\n",
       "  'unconfirmedCount': 0,\n",
       "  'marked': False,\n",
       "  'lastCheckinExpiredAt': 0},\n",
       " 'specials': {'count': 0, 'items': []},\n",
       " 'photos': {'count': 1,\n",
       "  'groups': [{'type': 'checkin',\n",
       "    'name': \"Friends' check-in photos\",\n",
       "    'count': 0,\n",
       "    'items': []},\n",
       "   {'type': 'venue',\n",
       "    'name': 'Venue photos',\n",
       "    'count': 1,\n",
       "    'items': [{'id': '4fc6c58ce4b06af1d0bdec9e',\n",
       "      'createdAt': 1338426764,\n",
       "      'source': {'name': 'Foursquare for BlackBerry',\n",
       "       'url': 'https://foursquare.com/download/#/blackberry'},\n",
       "      'prefix': 'https://fastly.4sqi.net/img/general/',\n",
       "      'suffix': '/a54twlWdVEJIz7KUp18aoD91Ng2mUw7W3k4h3Imzy7Q.jpg',\n",
       "      'width': 461,\n",
       "      'height': 346,\n",
       "      'user': {'id': '28957289',\n",
       "       'firstName': 'Sushrut',\n",
       "       'lastName': 'Govitrikar',\n",
       "       'gender': 'male',\n",
       "       'photo': {'prefix': 'https://fastly.4sqi.net/img/user/',\n",
       "        'suffix': '/JNMYMNJZLXVQQGBB.jpg'}},\n",
       "      'visibility': 'public'}]}],\n",
       "  'summary': '1 photo'},\n",
       " 'reasons': {'count': 0, 'items': []},\n",
       " 'hereNow': {'count': 0, 'summary': 'Nobody here', 'groups': []},\n",
       " 'createdAt': 1319250198,\n",
       " 'tips': {'count': 4,\n",
       "  'groups': [{'type': 'others',\n",
       "    'name': 'All tips',\n",
       "    'count': 4,\n",
       "    'items': [{'id': '51aca78c498eae444f84fc61',\n",
       "      'createdAt': 1370269580,\n",
       "      'text': 'Ganeh rocks',\n",
       "      'type': 'user',\n",
       "      'canonicalUrl': 'https://foursquare.com/item/51aca78c498eae444f84fc61',\n",
       "      'lang': 'en',\n",
       "      'likes': {'count': 0, 'groups': []},\n",
       "      'logView': True,\n",
       "      'agreeCount': 0,\n",
       "      'disagreeCount': 0,\n",
       "      'todo': {'count': 0},\n",
       "      'user': {'id': '55844190',\n",
       "       'firstName': 'Ajinkya',\n",
       "       'lastName': 'Borwankar',\n",
       "       'gender': 'male',\n",
       "       'photo': {'prefix': 'https://fastly.4sqi.net/img/user/',\n",
       "        'suffix': '/XZJCUVAMMC51U1R1.jpg'}}}]}]},\n",
       " 'shortUrl': 'http://4sq.com/oDmRpb',\n",
       " 'timeZone': 'Asia/Kolkata',\n",
       " 'listed': {'count': 0,\n",
       "  'groups': [{'type': 'others',\n",
       "    'name': 'Lists from other people',\n",
       "    'count': 0,\n",
       "    'items': []}]},\n",
       " 'popular': {'status': 'Likely open',\n",
       "  'richStatus': {'entities': [], 'text': 'Likely open'},\n",
       "  'isOpen': True,\n",
       "  'isLocalHoliday': False,\n",
       "  'timeframes': [{'days': 'Today',\n",
       "    'includesToday': True,\n",
       "    'open': [{'renderedTime': '6:00 AM–7:00 AM'},\n",
       "     {'renderedTime': 'Noon–3:00 PM'},\n",
       "     {'renderedTime': '5:00 PM–9:00 PM'}],\n",
       "    'segments': []},\n",
       "   {'days': 'Wed',\n",
       "    'open': [{'renderedTime': '6:00 AM–7:00 AM'},\n",
       "     {'renderedTime': '11:00 AM–2:00 PM'},\n",
       "     {'renderedTime': '4:00 PM–8:00 PM'}],\n",
       "    'segments': []},\n",
       "   {'days': 'Thu',\n",
       "    'open': [{'renderedTime': '6:00 AM–7:00 AM'},\n",
       "     {'renderedTime': '11:00 AM–Noon'},\n",
       "     {'renderedTime': '2:00 PM–3:00 PM'},\n",
       "     {'renderedTime': '5:00 PM–9:00 PM'}],\n",
       "    'segments': []},\n",
       "   {'days': 'Fri',\n",
       "    'open': [{'renderedTime': 'Noon–1:00 PM'},\n",
       "     {'renderedTime': '5:00 PM–8:00 PM'}],\n",
       "    'segments': []},\n",
       "   {'days': 'Sat',\n",
       "    'open': [{'renderedTime': '6:00 AM–8:00 AM'},\n",
       "     {'renderedTime': '10:00 AM–10:00 PM'}],\n",
       "    'segments': []},\n",
       "   {'days': 'Sun',\n",
       "    'open': [{'renderedTime': '6:00 AM–7:00 AM'},\n",
       "     {'renderedTime': '10:00 AM–3:00 PM'}],\n",
       "    'segments': []},\n",
       "   {'days': 'Mon',\n",
       "    'open': [{'renderedTime': '6:00 AM–7:00 AM'},\n",
       "     {'renderedTime': '11:00 AM–4:00 PM'},\n",
       "     {'renderedTime': '6:00 PM–8:00 PM'}],\n",
       "    'segments': []}]},\n",
       " 'pageUpdates': {'count': 0, 'items': []},\n",
       " 'inbox': {'count': 0, 'items': []},\n",
       " 'attributes': {'groups': [{'type': 'price',\n",
       "    'name': 'Price',\n",
       "    'summary': '₹₹',\n",
       "    'count': 1,\n",
       "    'items': [{'displayName': 'Price',\n",
       "      'displayValue': '₹₹',\n",
       "      'priceTier': 2}]}]},\n",
       " 'bestPhoto': {'id': '4fc6c58ce4b06af1d0bdec9e',\n",
       "  'createdAt': 1338426764,\n",
       "  'source': {'name': 'Foursquare for BlackBerry',\n",
       "   'url': 'https://foursquare.com/download/#/blackberry'},\n",
       "  'prefix': 'https://fastly.4sqi.net/img/general/',\n",
       "  'suffix': '/a54twlWdVEJIz7KUp18aoD91Ng2mUw7W3k4h3Imzy7Q.jpg',\n",
       "  'width': 461,\n",
       "  'height': 346,\n",
       "  'visibility': 'public'}}"
      ]
     },
     "execution_count": 53,
     "metadata": {},
     "output_type": "execute_result"
    }
   ],
   "source": [
    "result = requests.get(url).json()\n",
    "print(result['response']['venue'].keys())\n",
    "result['response']['venue']"
   ]
  },
  {
   "cell_type": "markdown",
   "metadata": {
    "button": false,
    "deletable": true,
    "new_sheet": false,
    "run_control": {
     "read_only": false
    }
   },
   "source": [
    "###  Get the hotel's overall rating"
   ]
  },
  {
   "cell_type": "code",
   "execution_count": 50,
   "metadata": {
    "button": false,
    "collapsed": false,
    "deletable": true,
    "new_sheet": false,
    "run_control": {
     "read_only": false
    }
   },
   "outputs": [
    {
     "name": "stdout",
     "output_type": "stream",
     "text": [
      "This venue has not been rated yet.\n"
     ]
    }
   ],
   "source": [
    "try:\n",
    "    print(result['response']['venue']['rating'])\n",
    "except:\n",
    "    print('This venue has not been rated yet.')"
   ]
  },
  {
   "cell_type": "markdown",
   "metadata": {
    "button": false,
    "deletable": true,
    "new_sheet": false,
    "run_control": {
     "read_only": false
    }
   },
   "source": [
    "That is not a very good rating. Let's check the rating of the second closest Hotel."
   ]
  },
  {
   "cell_type": "code",
   "execution_count": 51,
   "metadata": {
    "button": false,
    "collapsed": false,
    "deletable": true,
    "new_sheet": false,
    "run_control": {
     "read_only": false
    }
   },
   "outputs": [
    {
     "name": "stdout",
     "output_type": "stream",
     "text": [
      "This venue has not been rated yet.\n"
     ]
    }
   ],
   "source": [
    "venue_id = '4bdedb1dfe0e62b563000606' \n",
    "url = 'https://api.foursquare.com/v2/venues/{}?client_id={}&client_secret={}&v={}'.format(venue_id, CLIENT_ID, CLIENT_SECRET, VERSION)\n",
    "\n",
    "result = requests.get(url).json()\n",
    "try:\n",
    "    print(result['response']['venue']['rating'])\n",
    "except:\n",
    "    print('This venue has not been rated yet.')"
   ]
  },
  {
   "cell_type": "markdown",
   "metadata": {
    "button": false,
    "deletable": true,
    "new_sheet": false,
    "run_control": {
     "read_only": false
    }
   },
   "source": [
    "Since this restaurant has no ratings, let's check the third Hotel."
   ]
  },
  {
   "cell_type": "code",
   "execution_count": 19,
   "metadata": {
    "button": false,
    "collapsed": false,
    "deletable": true,
    "new_sheet": false,
    "run_control": {
     "read_only": false
    }
   },
   "outputs": [
    {
     "name": "stdout",
     "output_type": "stream",
     "text": [
      "7.8\n"
     ]
    }
   ],
   "source": [
    "venue_id = '3fd66200f964a520f4e41ee3' #hotel Courtyard\n",
    "url = 'https://api.foursquare.com/v2/venues/{}?client_id={}&client_secret={}&v={}'.format(venue_id, CLIENT_ID, CLIENT_SECRET, VERSION)\n",
    "\n",
    "result = requests.get(url).json()\n",
    "try:\n",
    "    print(result['response']['venue']['rating'])\n",
    "except:\n",
    "    print('This venue has not been rated yet.')"
   ]
  },
  {
   "cell_type": "markdown",
   "metadata": {
    "button": false,
    "deletable": true,
    "new_sheet": false,
    "run_control": {
     "read_only": false
    }
   },
   "source": [
    "Since this hotel has a slightly better rating, let's explore it further."
   ]
  },
  {
   "cell_type": "markdown",
   "metadata": {
    "button": false,
    "deletable": true,
    "new_sheet": false,
    "run_control": {
     "read_only": false
    }
   },
   "source": [
    "###  Get the number of tips"
   ]
  },
  {
   "cell_type": "code",
   "execution_count": 20,
   "metadata": {
    "button": false,
    "collapsed": false,
    "deletable": true,
    "new_sheet": false,
    "run_control": {
     "read_only": false
    }
   },
   "outputs": [
    {
     "data": {
      "text/plain": [
       "16"
      ]
     },
     "execution_count": 20,
     "metadata": {},
     "output_type": "execute_result"
    }
   ],
   "source": [
    "result['response']['venue']['tips']['count']"
   ]
  },
  {
   "cell_type": "markdown",
   "metadata": {
    "button": false,
    "deletable": true,
    "new_sheet": false,
    "run_control": {
     "read_only": false
    }
   },
   "source": [
    "   "
   ]
  },
  {
   "cell_type": "markdown",
   "metadata": {
    "button": false,
    "deletable": true,
    "new_sheet": false,
    "run_control": {
     "read_only": false
    }
   },
   "source": [
    "<a id=\"item3\"></a>"
   ]
  },
  {
   "cell_type": "markdown",
   "metadata": {
    "button": false,
    "deletable": true,
    "new_sheet": false,
    "run_control": {
     "read_only": false
    }
   },
   "source": [
    "  "
   ]
  },
  {
   "cell_type": "markdown",
   "metadata": {
    "button": false,
    "deletable": true,
    "new_sheet": false,
    "run_control": {
     "read_only": false
    }
   },
   "source": [
    "<a id=\"item4\"></a>"
   ]
  },
  {
   "cell_type": "markdown",
   "metadata": {
    "button": false,
    "deletable": true,
    "new_sheet": false,
    "run_control": {
     "read_only": false
    }
   },
   "source": [
    "## Explore a location: Let's explore the Punjabi restraunts around the hotel Courtyard\n",
    "> `https://api.foursquare.com/v2/venues/`**explore**`?client_id=`**CLIENT_ID**`&client_secret=`**CLIENT_SECRET**`&ll=`**LATITUDE**`,`**LONGITUDE**`&v=`**VERSION**`&limit=`**LIMIT**"
   ]
  },
  {
   "cell_type": "markdown",
   "metadata": {
    "button": false,
    "deletable": true,
    "new_sheet": false,
    "run_control": {
     "read_only": false
    }
   },
   "source": [
    "#### So, you just finished your gourmet dish at Ecco, and are just curious about the popular spots around the restaurant. In order to explore the area, let's start by getting the latitude and longitude values of Ecco Restaurant."
   ]
  },
  {
   "cell_type": "code",
   "execution_count": 55,
   "metadata": {
    "button": false,
    "collapsed": true,
    "deletable": true,
    "new_sheet": false,
    "run_control": {
     "read_only": false
    }
   },
   "outputs": [],
   "source": [
    "latitude = 18.520149\n",
    "longitude = 73.856164"
   ]
  },
  {
   "cell_type": "markdown",
   "metadata": {
    "button": false,
    "deletable": true,
    "new_sheet": false,
    "run_control": {
     "read_only": false
    }
   },
   "source": [
    "#### Define URL"
   ]
  },
  {
   "cell_type": "code",
   "execution_count": 56,
   "metadata": {
    "button": false,
    "collapsed": false,
    "deletable": true,
    "new_sheet": false,
    "run_control": {
     "read_only": false
    }
   },
   "outputs": [
    {
     "data": {
      "text/plain": [
       "'https://api.foursquare.com/v2/venues/explore?client_id=MLXEW5RUTUP5I3VULF5NK2OC50MGMZGAPTXUQDJKLJVGJ4DS&client_secret=CXUFS15FNKQF2XUSYJYC0IVQPEZP2541SRPHCASOIBKJXRBO&ll=18.520149,73.856164&v=20180604&radius=500&limit=30'"
      ]
     },
     "execution_count": 56,
     "metadata": {},
     "output_type": "execute_result"
    }
   ],
   "source": [
    "url = 'https://api.foursquare.com/v2/venues/explore?client_id={}&client_secret={}&ll={},{}&v={}&radius={}&limit={}'.format(CLIENT_ID, CLIENT_SECRET, latitude, longitude, VERSION, radius, LIMIT)\n",
    "url"
   ]
  },
  {
   "cell_type": "markdown",
   "metadata": {
    "button": false,
    "deletable": true,
    "new_sheet": false,
    "run_control": {
     "read_only": false
    }
   },
   "source": [
    "#### Send GET request and examine results"
   ]
  },
  {
   "cell_type": "code",
   "execution_count": 57,
   "metadata": {
    "button": false,
    "collapsed": true,
    "deletable": true,
    "new_sheet": false,
    "run_control": {
     "read_only": false
    }
   },
   "outputs": [],
   "source": [
    "import requests"
   ]
  },
  {
   "cell_type": "code",
   "execution_count": 59,
   "metadata": {
    "button": false,
    "collapsed": false,
    "deletable": true,
    "new_sheet": false,
    "run_control": {
     "read_only": false
    }
   },
   "outputs": [
    {
     "data": {
      "text/plain": [
       "'There are 7 around Punjabi restaurant.'"
      ]
     },
     "execution_count": 59,
     "metadata": {},
     "output_type": "execute_result"
    }
   ],
   "source": [
    "results = requests.get(url).json()\n",
    "'There are {} around Punjabi restaurant.'.format(len(results['response']['groups'][0]['items']))"
   ]
  },
  {
   "cell_type": "markdown",
   "metadata": {
    "button": false,
    "deletable": true,
    "new_sheet": false,
    "run_control": {
     "read_only": false
    }
   },
   "source": [
    "#### Get relevant part of JSON"
   ]
  },
  {
   "cell_type": "code",
   "execution_count": 60,
   "metadata": {
    "button": false,
    "collapsed": false,
    "deletable": true,
    "new_sheet": false,
    "run_control": {
     "read_only": false
    }
   },
   "outputs": [
    {
     "data": {
      "text/plain": [
       "{'reasons': {'count': 0,\n",
       "  'items': [{'summary': 'This spot is popular',\n",
       "    'type': 'general',\n",
       "    'reasonName': 'globalInteractionReason'}]},\n",
       " 'venue': {'id': '4f579db56b740547b24e5d3a',\n",
       "  'name': 'Lal Mahal',\n",
       "  'location': {'address': 'Corner of Kasba Ganpati Mandir,',\n",
       "   'crossStreet': 'off Shivaji Road,',\n",
       "   'lat': 18.518719674058865,\n",
       "   'lng': 73.85655641555786,\n",
       "   'labeledLatLngs': [{'label': 'display',\n",
       "     'lat': 18.518719674058865,\n",
       "     'lng': 73.85655641555786}],\n",
       "   'distance': 164,\n",
       "   'postalCode': '411030',\n",
       "   'cc': 'IN',\n",
       "   'city': 'Pune',\n",
       "   'state': 'Mahārāshtra',\n",
       "   'country': 'India',\n",
       "   'formattedAddress': ['Corner of Kasba Ganpati Mandir, (off Shivaji Road,)',\n",
       "    'Pune 411030',\n",
       "    'Mahārāshtra',\n",
       "    'India']},\n",
       "  'categories': [{'id': '4deefb944765f83613cdba6e',\n",
       "    'name': 'Historic Site',\n",
       "    'pluralName': 'Historic Sites',\n",
       "    'shortName': 'Historic Site',\n",
       "    'icon': {'prefix': 'https://ss3.4sqi.net/img/categories_v2/arts_entertainment/historicsite_',\n",
       "     'suffix': '.png'},\n",
       "    'primary': True}],\n",
       "  'photos': {'count': 0, 'groups': []}},\n",
       " 'referralId': 'e-0-4f579db56b740547b24e5d3a-0'}"
      ]
     },
     "execution_count": 60,
     "metadata": {},
     "output_type": "execute_result"
    }
   ],
   "source": [
    "items = results['response']['groups'][0]['items']\n",
    "items[0]"
   ]
  },
  {
   "cell_type": "markdown",
   "metadata": {
    "button": false,
    "deletable": true,
    "new_sheet": false,
    "run_control": {
     "read_only": false
    }
   },
   "source": [
    "#### Process JSON and convert it to a clean dataframe"
   ]
  },
  {
   "cell_type": "code",
   "execution_count": 61,
   "metadata": {
    "button": false,
    "collapsed": false,
    "deletable": true,
    "new_sheet": false,
    "run_control": {
     "read_only": false
    },
    "scrolled": false
   },
   "outputs": [
    {
     "data": {
      "text/html": [
       "<div>\n",
       "<style scoped>\n",
       "    .dataframe tbody tr th:only-of-type {\n",
       "        vertical-align: middle;\n",
       "    }\n",
       "\n",
       "    .dataframe tbody tr th {\n",
       "        vertical-align: top;\n",
       "    }\n",
       "\n",
       "    .dataframe thead th {\n",
       "        text-align: right;\n",
       "    }\n",
       "</style>\n",
       "<table border=\"1\" class=\"dataframe\">\n",
       "  <thead>\n",
       "    <tr style=\"text-align: right;\">\n",
       "      <th></th>\n",
       "      <th>name</th>\n",
       "      <th>categories</th>\n",
       "      <th>address</th>\n",
       "      <th>cc</th>\n",
       "      <th>city</th>\n",
       "      <th>country</th>\n",
       "      <th>crossStreet</th>\n",
       "      <th>distance</th>\n",
       "      <th>formattedAddress</th>\n",
       "      <th>labeledLatLngs</th>\n",
       "      <th>lat</th>\n",
       "      <th>lng</th>\n",
       "      <th>postalCode</th>\n",
       "      <th>state</th>\n",
       "      <th>id</th>\n",
       "    </tr>\n",
       "  </thead>\n",
       "  <tbody>\n",
       "    <tr>\n",
       "      <th>0</th>\n",
       "      <td>Lal Mahal</td>\n",
       "      <td>Historic Site</td>\n",
       "      <td>Corner of Kasba Ganpati Mandir,</td>\n",
       "      <td>IN</td>\n",
       "      <td>Pune</td>\n",
       "      <td>India</td>\n",
       "      <td>off Shivaji Road,</td>\n",
       "      <td>164</td>\n",
       "      <td>[Corner of Kasba Ganpati Mandir, (off Shivaji Road,), Pune 411030, Mahārāshtra, India]</td>\n",
       "      <td>[{'label': 'display', 'lat': 18.518719674058865, 'lng': 73.85655641555786}]</td>\n",
       "      <td>18.518720</td>\n",
       "      <td>73.856556</td>\n",
       "      <td>411030</td>\n",
       "      <td>Mahārāshtra</td>\n",
       "      <td>4f579db56b740547b24e5d3a</td>\n",
       "    </tr>\n",
       "    <tr>\n",
       "      <th>1</th>\n",
       "      <td>Shaniwar Wada</td>\n",
       "      <td>Historic Site</td>\n",
       "      <td>Shaniwar Peth</td>\n",
       "      <td>IN</td>\n",
       "      <td>Pune</td>\n",
       "      <td>India</td>\n",
       "      <td>Bajirao Road</td>\n",
       "      <td>103</td>\n",
       "      <td>[Shaniwar Peth (Bajirao Road), Pune 411030, Mahārāshtra, India]</td>\n",
       "      <td>[{'label': 'display', 'lat': 18.52015119740706, 'lng': 73.85518729036599}]</td>\n",
       "      <td>18.520151</td>\n",
       "      <td>73.855187</td>\n",
       "      <td>411030</td>\n",
       "      <td>Mahārāshtra</td>\n",
       "      <td>4c4c3ba6c9e4ef3b14294f11</td>\n",
       "    </tr>\n",
       "    <tr>\n",
       "      <th>2</th>\n",
       "      <td>New Poona Bakery</td>\n",
       "      <td>Bakery</td>\n",
       "      <td>Appa Balwant Chowk</td>\n",
       "      <td>IN</td>\n",
       "      <td>Pune</td>\n",
       "      <td>India</td>\n",
       "      <td>NaN</td>\n",
       "      <td>374</td>\n",
       "      <td>[Appa Balwant Chowk, Pune 411001, Mahārāshtra, India]</td>\n",
       "      <td>[{'label': 'display', 'lat': 18.517027817210945, 'lng': 73.85484481593303}]</td>\n",
       "      <td>18.517028</td>\n",
       "      <td>73.854845</td>\n",
       "      <td>411001</td>\n",
       "      <td>Mahārāshtra</td>\n",
       "      <td>4ea3855b02d529c11716d327</td>\n",
       "    </tr>\n",
       "    <tr>\n",
       "      <th>3</th>\n",
       "      <td>China Market</td>\n",
       "      <td>Electronics Store</td>\n",
       "      <td>NaN</td>\n",
       "      <td>IN</td>\n",
       "      <td>NaN</td>\n",
       "      <td>India</td>\n",
       "      <td>NaN</td>\n",
       "      <td>325</td>\n",
       "      <td>[India]</td>\n",
       "      <td>[{'label': 'display', 'lat': 18.517231703524118, 'lng': 73.85630141364052}]</td>\n",
       "      <td>18.517232</td>\n",
       "      <td>73.856301</td>\n",
       "      <td>NaN</td>\n",
       "      <td>NaN</td>\n",
       "      <td>4eca56690aaf9c3ccfa068e0</td>\n",
       "    </tr>\n",
       "    <tr>\n",
       "      <th>4</th>\n",
       "      <td>Kibe Lakshmi Theater</td>\n",
       "      <td>Movie Theater</td>\n",
       "      <td>Bajirao Road</td>\n",
       "      <td>IN</td>\n",
       "      <td>Pune</td>\n",
       "      <td>India</td>\n",
       "      <td>ABC</td>\n",
       "      <td>423</td>\n",
       "      <td>[Bajirao Road (ABC), Pune, Mahārāshtra, India]</td>\n",
       "      <td>[{'label': 'display', 'lat': 18.516980682121247, 'lng': 73.85394460695105}]</td>\n",
       "      <td>18.516981</td>\n",
       "      <td>73.853945</td>\n",
       "      <td>NaN</td>\n",
       "      <td>Mahārāshtra</td>\n",
       "      <td>4c11301d91fdd13adbe22f39</td>\n",
       "    </tr>\n",
       "    <tr>\n",
       "      <th>5</th>\n",
       "      <td>Appa Balwant Chowk</td>\n",
       "      <td>Intersection</td>\n",
       "      <td>Appa Balwant Chowk, Budhwar Peth</td>\n",
       "      <td>IN</td>\n",
       "      <td>Pune</td>\n",
       "      <td>India</td>\n",
       "      <td>Shri Vithhal Mandir Marg</td>\n",
       "      <td>435</td>\n",
       "      <td>[Appa Balwant Chowk, Budhwar Peth (Shri Vithhal Mandir Marg), Pune, Mahārāshtra, India]</td>\n",
       "      <td>[{'label': 'display', 'lat': 18.51684318158415, 'lng': 73.85395255875065}]</td>\n",
       "      <td>18.516843</td>\n",
       "      <td>73.853953</td>\n",
       "      <td>NaN</td>\n",
       "      <td>Mahārāshtra</td>\n",
       "      <td>4d60b5181939a35dd16025ee</td>\n",
       "    </tr>\n",
       "    <tr>\n",
       "      <th>6</th>\n",
       "      <td>Venus traders</td>\n",
       "      <td>Arts &amp; Crafts Store</td>\n",
       "      <td>Appa Balwant Chowk</td>\n",
       "      <td>IN</td>\n",
       "      <td>Pune</td>\n",
       "      <td>India</td>\n",
       "      <td>N C Kelkar Road</td>\n",
       "      <td>437</td>\n",
       "      <td>[Appa Balwant Chowk (N C Kelkar Road), Pune 411030, Mahārāshtra, India]</td>\n",
       "      <td>[{'label': 'display', 'lat': 18.51671960369533, 'lng': 73.85414781914956}]</td>\n",
       "      <td>18.516720</td>\n",
       "      <td>73.854148</td>\n",
       "      <td>411030</td>\n",
       "      <td>Mahārāshtra</td>\n",
       "      <td>506d11c5e4b09a7148717869</td>\n",
       "    </tr>\n",
       "  </tbody>\n",
       "</table>\n",
       "</div>"
      ],
      "text/plain": [
       "                   name           categories  \\\n",
       "0  Lal Mahal             Historic Site         \n",
       "1  Shaniwar Wada         Historic Site         \n",
       "2  New Poona Bakery      Bakery                \n",
       "3  China Market          Electronics Store     \n",
       "4  Kibe Lakshmi Theater  Movie Theater         \n",
       "5  Appa Balwant Chowk    Intersection          \n",
       "6  Venus traders         Arts & Crafts Store   \n",
       "\n",
       "                            address  cc  city country  \\\n",
       "0  Corner of Kasba Ganpati Mandir,   IN  Pune  India    \n",
       "1  Shaniwar Peth                     IN  Pune  India    \n",
       "2  Appa Balwant Chowk                IN  Pune  India    \n",
       "3  NaN                               IN  NaN   India    \n",
       "4  Bajirao Road                      IN  Pune  India    \n",
       "5  Appa Balwant Chowk, Budhwar Peth  IN  Pune  India    \n",
       "6  Appa Balwant Chowk                IN  Pune  India    \n",
       "\n",
       "                crossStreet  distance  \\\n",
       "0  off Shivaji Road,         164        \n",
       "1  Bajirao Road              103        \n",
       "2  NaN                       374        \n",
       "3  NaN                       325        \n",
       "4  ABC                       423        \n",
       "5  Shri Vithhal Mandir Marg  435        \n",
       "6  N C Kelkar Road           437        \n",
       "\n",
       "                                                                          formattedAddress  \\\n",
       "0  [Corner of Kasba Ganpati Mandir, (off Shivaji Road,), Pune 411030, Mahārāshtra, India]    \n",
       "1  [Shaniwar Peth (Bajirao Road), Pune 411030, Mahārāshtra, India]                           \n",
       "2  [Appa Balwant Chowk, Pune 411001, Mahārāshtra, India]                                     \n",
       "3  [India]                                                                                   \n",
       "4  [Bajirao Road (ABC), Pune, Mahārāshtra, India]                                            \n",
       "5  [Appa Balwant Chowk, Budhwar Peth (Shri Vithhal Mandir Marg), Pune, Mahārāshtra, India]   \n",
       "6  [Appa Balwant Chowk (N C Kelkar Road), Pune 411030, Mahārāshtra, India]                   \n",
       "\n",
       "                                                                labeledLatLngs  \\\n",
       "0  [{'label': 'display', 'lat': 18.518719674058865, 'lng': 73.85655641555786}]   \n",
       "1  [{'label': 'display', 'lat': 18.52015119740706, 'lng': 73.85518729036599}]    \n",
       "2  [{'label': 'display', 'lat': 18.517027817210945, 'lng': 73.85484481593303}]   \n",
       "3  [{'label': 'display', 'lat': 18.517231703524118, 'lng': 73.85630141364052}]   \n",
       "4  [{'label': 'display', 'lat': 18.516980682121247, 'lng': 73.85394460695105}]   \n",
       "5  [{'label': 'display', 'lat': 18.51684318158415, 'lng': 73.85395255875065}]    \n",
       "6  [{'label': 'display', 'lat': 18.51671960369533, 'lng': 73.85414781914956}]    \n",
       "\n",
       "         lat        lng postalCode        state                        id  \n",
       "0  18.518720  73.856556  411030     Mahārāshtra  4f579db56b740547b24e5d3a  \n",
       "1  18.520151  73.855187  411030     Mahārāshtra  4c4c3ba6c9e4ef3b14294f11  \n",
       "2  18.517028  73.854845  411001     Mahārāshtra  4ea3855b02d529c11716d327  \n",
       "3  18.517232  73.856301  NaN        NaN          4eca56690aaf9c3ccfa068e0  \n",
       "4  18.516981  73.853945  NaN        Mahārāshtra  4c11301d91fdd13adbe22f39  \n",
       "5  18.516843  73.853953  NaN        Mahārāshtra  4d60b5181939a35dd16025ee  \n",
       "6  18.516720  73.854148  411030     Mahārāshtra  506d11c5e4b09a7148717869  "
      ]
     },
     "execution_count": 61,
     "metadata": {},
     "output_type": "execute_result"
    }
   ],
   "source": [
    "dataframe = json_normalize(items) # flatten JSON\n",
    "\n",
    "# filter columns\n",
    "filtered_columns = ['venue.name', 'venue.categories'] + [col for col in dataframe.columns if col.startswith('venue.location.')] + ['venue.id']\n",
    "dataframe_filtered = dataframe.loc[:, filtered_columns]\n",
    "\n",
    "# filter the category for each row\n",
    "dataframe_filtered['venue.categories'] = dataframe_filtered.apply(get_category_type, axis=1)\n",
    "\n",
    "# clean columns\n",
    "dataframe_filtered.columns = [col.split('.')[-1] for col in dataframe_filtered.columns]\n",
    "\n",
    "dataframe_filtered.head(10)"
   ]
  },
  {
   "cell_type": "markdown",
   "metadata": {
    "button": false,
    "deletable": true,
    "new_sheet": false,
    "run_control": {
     "read_only": false
    }
   },
   "source": [
    "#### Let's visualize these items on the map around our location"
   ]
  },
  {
   "cell_type": "code",
   "execution_count": 62,
   "metadata": {
    "button": false,
    "collapsed": false,
    "deletable": true,
    "new_sheet": false,
    "run_control": {
     "read_only": false
    }
   },
   "outputs": [
    {
     "data": {
      "text/html": [
       "<div style=\"width:100%;\"><div style=\"position:relative;width:100%;height:0;padding-bottom:60%;\"><iframe src=\"data:text/html;charset=utf-8;base64,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\" style=\"position:absolute;width:100%;height:100%;left:0;top:0;border:none !important;\" allowfullscreen webkitallowfullscreen mozallowfullscreen></iframe></div></div>"
      ],
      "text/plain": [
       "<folium.folium.Map at 0x7fd7e0c45780>"
      ]
     },
     "execution_count": 62,
     "metadata": {},
     "output_type": "execute_result"
    }
   ],
   "source": [
    "venues_map = folium.Map(location=[latitude, longitude], zoom_start=15) # generate map centred around Ecco\n",
    "\n",
    "\n",
    "# add Ecco as a red circle mark\n",
    "folium.features.CircleMarker(\n",
    "    [latitude, longitude],\n",
    "    radius=10,\n",
    "    popup='Ecco',\n",
    "    fill=True,\n",
    "    color='red',\n",
    "    fill_color='red',\n",
    "    fill_opacity=0.6\n",
    "    ).add_to(venues_map)\n",
    "\n",
    "\n",
    "# add popular spots to the map as blue circle markers\n",
    "for lat, lng, label in zip(dataframe_filtered.lat, dataframe_filtered.lng, dataframe_filtered.categories):\n",
    "    folium.features.CircleMarker(\n",
    "        [lat, lng],\n",
    "        radius=5,\n",
    "        popup=label,\n",
    "        fill=True,\n",
    "        color='blue',\n",
    "        fill_color='blue',\n",
    "        fill_opacity=0.6\n",
    "        ).add_to(venues_map)\n",
    "\n",
    "# display map\n",
    "venues_map"
   ]
  },
  {
   "cell_type": "markdown",
   "metadata": {
    "button": false,
    "deletable": true,
    "new_sheet": false,
    "run_control": {
     "read_only": false
    }
   },
   "source": [
    "   "
   ]
  },
  {
   "cell_type": "markdown",
   "metadata": {
    "button": false,
    "deletable": true,
    "new_sheet": false,
    "run_control": {
     "read_only": false
    }
   },
   "source": [
    "<a id=\"item5\"></a>"
   ]
  },
  {
   "cell_type": "markdown",
   "metadata": {
    "button": false,
    "deletable": true,
    "new_sheet": false,
    "run_control": {
     "read_only": false
    }
   },
   "source": [
    "##  Explore Trending Venues\n",
    "> `https://api.foursquare.com/v2/venues/`**trending**`?client_id=`**CLIENT_ID**`&client_secret=`**CLIENT_SECRET**`&ll=`**LATITUDE**`,`**LONGITUDE**`&v=`**VERSION**"
   ]
  },
  {
   "cell_type": "markdown",
   "metadata": {
    "button": false,
    "deletable": true,
    "new_sheet": false,
    "run_control": {
     "read_only": false
    }
   },
   "source": [
    "#### Now, instead of simply exploring the Restraunts arount the Hotel, you are interested in knowing the venues that are trending at the time you are done with your lunch, meaning the places with the highest foot traffic. So let's do that and get the trending venues around Courtyard."
   ]
  },
  {
   "cell_type": "code",
   "execution_count": 63,
   "metadata": {
    "button": false,
    "collapsed": false,
    "deletable": true,
    "new_sheet": false,
    "run_control": {
     "read_only": false
    }
   },
   "outputs": [
    {
     "data": {
      "text/plain": [
       "{'meta': {'code': 200, 'requestId': '5cb5894d9fb6b776fd6daa97'},\n",
       " 'response': {'venues': []}}"
      ]
     },
     "execution_count": 63,
     "metadata": {},
     "output_type": "execute_result"
    }
   ],
   "source": [
    "# define URL\n",
    "url = 'https://api.foursquare.com/v2/venues/trending?client_id={}&client_secret={}&ll={},{}&v={}'.format(CLIENT_ID, CLIENT_SECRET, latitude, longitude, VERSION)\n",
    "\n",
    "# send GET request and get trending venues\n",
    "results = requests.get(url).json()\n",
    "results"
   ]
  },
  {
   "cell_type": "markdown",
   "metadata": {
    "button": false,
    "deletable": true,
    "new_sheet": false,
    "run_control": {
     "read_only": false
    }
   },
   "source": [
    "### Check if any venues are trending at this time"
   ]
  },
  {
   "cell_type": "code",
   "execution_count": 64,
   "metadata": {
    "button": false,
    "collapsed": true,
    "deletable": true,
    "new_sheet": false,
    "run_control": {
     "read_only": false
    }
   },
   "outputs": [],
   "source": [
    "if len(results['response']['venues']) == 0:\n",
    "    trending_venues_df = 'No trending venues are available at the moment!'\n",
    "    \n",
    "else:\n",
    "    trending_venues = results['response']['venues']\n",
    "    trending_venues_df = json_normalize(trending_venues)\n",
    "\n",
    "    # filter columns\n",
    "    columns_filtered = ['name', 'categories'] + ['location.distance', 'location.city', 'location.postalCode', 'location.state', 'location.country', 'location.lat', 'location.lng']\n",
    "    trending_venues_df = trending_venues_df.loc[:, columns_filtered]\n",
    "\n",
    "    # filter the category for each row\n",
    "    trending_venues_df['categories'] = trending_venues_df.apply(get_category_type, axis=1)"
   ]
  },
  {
   "cell_type": "code",
   "execution_count": 65,
   "metadata": {
    "button": false,
    "collapsed": false,
    "deletable": true,
    "new_sheet": false,
    "run_control": {
     "read_only": false
    }
   },
   "outputs": [
    {
     "data": {
      "text/plain": [
       "'No trending venues are available at the moment!'"
      ]
     },
     "execution_count": 65,
     "metadata": {},
     "output_type": "execute_result"
    }
   ],
   "source": [
    "# display trending venues\n",
    "trending_venues_df"
   ]
  },
  {
   "cell_type": "markdown",
   "metadata": {
    "button": false,
    "deletable": true,
    "new_sheet": false,
    "run_control": {
     "read_only": false
    }
   },
   "source": [
    "### Visualize trending venues"
   ]
  },
  {
   "cell_type": "code",
   "execution_count": 66,
   "metadata": {
    "button": false,
    "collapsed": false,
    "deletable": true,
    "new_sheet": false,
    "run_control": {
     "read_only": false
    }
   },
   "outputs": [],
   "source": [
    "if len(results['response']['venues']) == 0:\n",
    "    venues_map = 'Cannot generate visual as no trending venues are available at the moment!'\n",
    "\n",
    "else:\n",
    "    venues_map = folium.Map(location=[latitude, longitude], zoom_start=15) # generate map centred around Ecco\n",
    "\n",
    "\n",
    "    # add Ecco as a red circle mark\n",
    "    folium.features.CircleMarker(\n",
    "        [latitude, longitude],\n",
    "        radius=10,\n",
    "        popup='Ecco',\n",
    "        fill=True,\n",
    "        color='red',\n",
    "        fill_color='red',\n",
    "        fill_opacity=0.6\n",
    "    ).add_to(venues_map)\n",
    "\n",
    "\n",
    "    # add the trending venues as blue circle markers\n",
    "    for lat, lng, label in zip(trending_venues_df['location.lat'], trending_venues_df['location.lng'], trending_venues_df['name']):\n",
    "        folium.features.CircleMarker(\n",
    "            [lat, lng],\n",
    "            radius=5,\n",
    "            poup=label,\n",
    "            fill=True,\n",
    "            color='blue',\n",
    "            fill_color='blue',\n",
    "            fill_opacity=0.6\n",
    "        ).add_to(venues_map)"
   ]
  },
  {
   "cell_type": "code",
   "execution_count": 67,
   "metadata": {
    "button": false,
    "collapsed": false,
    "deletable": true,
    "new_sheet": false,
    "run_control": {
     "read_only": false
    },
    "scrolled": false
   },
   "outputs": [
    {
     "data": {
      "text/plain": [
       "'Cannot generate visual as no trending venues are available at the moment!'"
      ]
     },
     "execution_count": 67,
     "metadata": {},
     "output_type": "execute_result"
    }
   ],
   "source": [
    "# display map\n",
    "venues_map"
   ]
  },
  {
   "cell_type": "markdown",
   "metadata": {
    "button": false,
    "deletable": true,
    "new_sheet": false,
    "run_control": {
     "read_only": false
    }
   },
   "source": [
    "<a id=\"item6\"></a>"
   ]
  },
  {
   "cell_type": "markdown",
   "metadata": {
    "button": false,
    "deletable": true,
    "new_sheet": false,
    "run_control": {
     "read_only": false
    }
   },
   "source": [
    "   "
   ]
  }
 ],
 "metadata": {
  "kernelspec": {
   "display_name": "Python 3",
   "language": "python",
   "name": "python3"
  },
  "language_info": {
   "codemirror_mode": {
    "name": "ipython",
    "version": 3
   },
   "file_extension": ".py",
   "mimetype": "text/x-python",
   "name": "python",
   "nbconvert_exporter": "python",
   "pygments_lexer": "ipython3",
   "version": "3.6.8"
  },
  "widgets": {
   "state": {},
   "version": "1.1.2"
  }
 },
 "nbformat": 4,
 "nbformat_minor": 2
}
